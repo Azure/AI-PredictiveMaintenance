{
 "cells": [
  {
   "cell_type": "markdown",
   "metadata": {},
   "source": [
    "# Operationalization (preparation)\n",
    "\n",
    "After having trained a model on a feature dataset, we are now almost ready to create a real-time scoring Web service. In the two previous notebooks – Feature Engineering and Model Training – we generated 3 artifacts:\n",
    "- *service_schema.json*, or the Swagger\n",
    "- featurizer module (*featurization.py*)\n",
    "- fitted Spark pipeline (in other words, the model)\n",
    "\n",
    "In this last notebook, we will be creating the Azure ML Web service module to glue these 3 pieces together.\n",
    "\n",
    "We will **not** be creating an actual Web service or any Azure resources here, but after completing this notebook, all assets necessary for operationalization will be present in the $AZUREML_NATIVE_SHARE_DIRECTORY."
   ]
  },
  {
   "cell_type": "code",
   "execution_count": 1,
   "metadata": {},
   "outputs": [],
   "source": [
    "import os\n",
    "import json\n",
    "import importlib\n",
    "from pyspark.sql import SparkSession, SQLContext, Row\n",
    "\n",
    "AZUREML_NATIVE_SHARE_DIRECTORY = os.getenv('AZUREML_NATIVE_SHARE_DIRECTORY') + 'Solution1'"
   ]
  },
  {
   "cell_type": "markdown",
   "metadata": {},
   "source": [
    "First, lets load the sample data embedded in *service_schema.json*. We will use this tiny dataset to verify that the Web service is operational. (Think of it as a unit test!)"
   ]
  },
  {
   "cell_type": "code",
   "execution_count": 2,
   "metadata": {},
   "outputs": [
    {
     "name": "stdout",
     "output_type": "stream",
     "text": [
      "root\n",
      " |-- ambient_pressure: double (nullable = true)\n",
      " |-- ambient_temperature: double (nullable = true)\n",
      " |-- pressure: double (nullable = true)\n",
      " |-- speed: double (nullable = true)\n",
      " |-- temperature: double (nullable = true)\n",
      " |-- vibration: array (nullable = true)\n",
      " |    |-- element: long (containsNull = true)\n",
      "\n"
     ]
    }
   ],
   "source": [
    "sc = SparkSession.builder.getOrCreate()\n",
    "sql = SQLContext.getOrCreate(sc)\n",
    "\n",
    "with open(os.path.join(AZUREML_NATIVE_SHARE_DIRECTORY, 'service_schema.json')) as f:\n",
    "    schema = json.loads(f.read())\n",
    "    \n",
    "sample_df = sql.createDataFrame([Row(**x) for x in schema['input']['input_df']['swagger']['example']])\n",
    "\n",
    "sample_df.printSchema()"
   ]
  },
  {
   "cell_type": "markdown",
   "metadata": {},
   "source": [
    "### Source code of the Azure ML Web service"
   ]
  },
  {
   "cell_type": "code",
   "execution_count": 3,
   "metadata": {},
   "outputs": [
    {
     "name": "stdout",
     "output_type": "stream",
     "text": [
      "Overwriting /mnt/azureml-share/score.py\n"
     ]
    }
   ],
   "source": [
    "%%writefile $AZUREML_NATIVE_SHARE_DIRECTORY/score.py\n",
    "\n",
    "import os\n",
    "import numpy as np\n",
    "from functools import reduce\n",
    "from pyspark.ml.feature import StringIndexer, VectorAssembler, VectorIndexer\n",
    "from featurization import featurize\n",
    "\n",
    "def init():\n",
    "    from pyspark.ml import PipelineModel\n",
    "    global pipeline\n",
    "    dir_path = os.path.dirname(os.path.realpath(__file__))\n",
    "    model_path = os.path.join(dir_path, 'model')\n",
    "    pipeline = PipelineModel.load(model_path)\n",
    "\n",
    "def run(input_df):\n",
    "    # same featurizer was used prior to training the model    \n",
    "    features_df = featurize(input_df)\n",
    "    \n",
    "    sorted_feature_columns = sorted(features_df.columns)\n",
    "\n",
    "    # assemble features\n",
    "    va = VectorAssembler(inputCols=sorted_feature_columns, outputCol='features')\n",
    "\n",
    "    vectorized_features = va.transform(features_df)\n",
    "\n",
    "    predictions = pipeline.transform(vectorized_features).collect()\n",
    "\n",
    "    # get each scored result.\n",
    "    preds = [x['predictedFailure'] for x in predictions]\n",
    "    return preds"
   ]
  },
  {
   "cell_type": "markdown",
   "metadata": {},
   "source": [
    "Let's execute this module so that both *init* and *run* methods are present in the current scope."
   ]
  },
  {
   "cell_type": "code",
   "execution_count": 4,
   "metadata": {},
   "outputs": [],
   "source": [
    "%run $AZUREML_NATIVE_SHARE_DIRECTORY/score.py"
   ]
  },
  {
   "cell_type": "markdown",
   "metadata": {},
   "source": [
    "Now we can emulate the real-time ML Web Server by directly calling *init*, which will load the model, and *run*, which will use the model to score our test input."
   ]
  },
  {
   "cell_type": "code",
   "execution_count": 5,
   "metadata": {},
   "outputs": [],
   "source": [
    "init()   "
   ]
  },
  {
   "cell_type": "code",
   "execution_count": 6,
   "metadata": {},
   "outputs": [
    {
     "data": {
      "text/plain": [
       "['None', 'None', 'None']"
      ]
     },
     "execution_count": 6,
     "metadata": {},
     "output_type": "execute_result"
    }
   ],
   "source": [
    "run(sample_df)"
   ]
  },
  {
   "cell_type": "markdown",
   "metadata": {},
   "source": [
    "The command below will show all the pieces (4 files) necessary for creating the ML Web service."
   ]
  },
  {
   "cell_type": "code",
   "execution_count": 7,
   "metadata": {},
   "outputs": [
    {
     "name": "stdout",
     "output_type": "stream",
     "text": [
      "\u001b[01;32mfeaturization.py\u001b[0m*\r\n",
      "\u001b[01;32mmodel.tar.gz\u001b[0m*\r\n",
      "\u001b[01;32mscore.py\u001b[0m*\r\n",
      "\u001b[01;32mservice_schema.json\u001b[0m*\r\n"
     ]
    }
   ],
   "source": [
    "% ls $AZUREML_NATIVE_SHARE_DIRECTORY | grep -v /"
   ]
  }
 ],
 "metadata": {
  "kernelspec": {
   "display_name": "PySpark",
   "language": "python",
   "name": "pyspark"
  },
  "language_info": {
   "codemirror_mode": {
    "name": "ipython",
    "version": 3
   },
   "file_extension": ".py",
   "mimetype": "text/x-python",
   "name": "python",
   "nbconvert_exporter": "python",
   "pygments_lexer": "ipython3",
   "version": "3.6.2"
  }
 },
 "nbformat": 4,
 "nbformat_minor": 2
}
