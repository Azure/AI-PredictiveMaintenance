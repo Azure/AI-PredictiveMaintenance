{
 "cells": [
  {
   "cell_type": "markdown",
   "metadata": {},
   "source": [
    "# Feature Engineering\n",
    "\n",
    "In machine learning, a feature is an individual measurable attribute of a phenomenon being observed. The extraction of features from raw training data is called *feature engineering*. In other words, feature engineering is a process of transforming raw training data into a *representation* suitable for the application of machine learning algorithms.\n",
    "\n",
    "This process usually requires a certain degree of domain expertise and can be divided into the following stages <sup>[[1]](#ref_1)</sup>: \n",
    "- Brainstorming on features\n",
    "- Deciding what features to create\n",
    "- Creating features\n",
    "- Studying how the features impact model's predictive accuracy\n",
    "- Iterating if necessary"
   ]
  },
  {
   "cell_type": "code",
   "execution_count": 1,
   "metadata": {},
   "outputs": [],
   "source": [
    "%matplotlib inline\n",
    "import os\n",
    "import json\n",
    "import pickle\n",
    "import pyspark\n",
    "from functools import reduce\n",
    "from pyspark.sql import SparkSession, SQLContext\n",
    "from pyspark.sql.functions import udf, mean, lit, stddev, col, expr, when\n",
    "from pyspark.sql.types import DoubleType, ArrayType, ShortType, LongType, IntegerType\n",
    "import pandas as pd\n",
    "from collections import OrderedDict\n",
    "from datetime import date\n",
    "import numpy as np\n",
    "from scipy import signal\n",
    "import matplotlib.pyplot as plt\n",
    "from pyspark.storagelevel import StorageLevel\n",
    "\n",
    "from azureml.api.schema.dataTypes import DataTypes\n",
    "from azureml.api.schema.sampleDefinition import SampleDefinition\n",
    "from azureml.api.realtime.services import generate_schema\n",
    "\n",
    "STORAGE_ACCOUNT_SUFFIX = 'core.windows.net'\n",
    "\n",
    "TELEMETRY_STORAGE_ACCOUNT_NAME = os.getenv('TELEMETRY_STORAGE_ACCOUNT_NAME')\n",
    "TELEMETRY_STORAGE_ACCOUNT_KEY = os.getenv('TELEMETRY_STORAGE_ACCOUNT_KEY')\n",
    "TELEMETRY_CONTAINER_NAME = os.getenv('TELEMETRY_CONTAINER_NAME')\n",
    "STAGING_STORAGE_ACCOUNT_NAME = os.getenv('STAGING_STORAGE_ACCOUNT_NAME')\n",
    "STAGING_STORAGE_ACCOUNT_KEY = os.getenv('STAGING_STORAGE_ACCOUNT_KEY')\n",
    "AZUREML_NATIVE_SHARE_DIRECTORY = os.getenv('AZUREML_NATIVE_SHARE_DIRECTORY')"
   ]
  },
  {
   "cell_type": "markdown",
   "metadata": {},
   "source": [
    "##  Reading raw training dataset\n",
    "First, let's read the raw training dataset from Azure Blob storage into a Spark dataframe. The dataset consists of IoT Hub messages that contain sensor data<sup>[[2]](#ref_2)</sup>. Captured data is written in Apache Avro format: a compact, fast, binary format that provides rich data structures with inline schema<sup>[[3]](#ref_3)</sup>."
   ]
  },
  {
   "cell_type": "code",
   "execution_count": 2,
   "metadata": {},
   "outputs": [
    {
     "name": "stdout",
     "output_type": "stream",
     "text": [
      "root\n",
      " |-- EnqueuedTimeUtc: string (nullable = true)\n",
      " |-- Properties: map (nullable = true)\n",
      " |    |-- key: string\n",
      " |    |-- value: string (valueContainsNull = true)\n",
      " |-- SystemProperties: map (nullable = true)\n",
      " |    |-- key: string\n",
      " |    |-- value: string (valueContainsNull = true)\n",
      " |-- Body: binary (nullable = true)\n",
      "\n"
     ]
    }
   ],
   "source": [
    "wasbTelemetryUrl = \"wasb://{0}@{1}.blob.{2}/*/*/*/*/*/*/*\".format(\n",
    "            TELEMETRY_CONTAINER_NAME,\n",
    "            TELEMETRY_STORAGE_ACCOUNT_NAME,\n",
    "            STORAGE_ACCOUNT_SUFFIX)\n",
    "\n",
    "sc = SparkSession.builder.getOrCreate()\n",
    "hc = sc._jsc.hadoopConfiguration()\n",
    "hc.set(\"avro.mapred.ignore.inputs.without.extension\", \"false\")\n",
    "\n",
    "if TELEMETRY_STORAGE_ACCOUNT_KEY:\n",
    "    hc.set(\"fs.azure.account.key.{}.blob.core.windows.net\"\n",
    "           .format(TELEMETRY_STORAGE_ACCOUNT_NAME), TELEMETRY_STORAGE_ACCOUNT_KEY)\n",
    "\n",
    "hc.set(\"fs.azure.account.key.{}.blob.core.windows.net\"\n",
    "       .format(STAGING_STORAGE_ACCOUNT_NAME), STAGING_STORAGE_ACCOUNT_KEY)\n",
    "    \n",
    "sql = SQLContext.getOrCreate(sc)\n",
    "\n",
    "df = sql.read.format(\"com.databricks.spark.avro\").load(wasbTelemetryUrl)\n",
    "\n",
    "df.printSchema()"
   ]
  },
  {
   "cell_type": "code",
   "execution_count": 3,
   "metadata": {},
   "outputs": [
    {
     "name": "stdout",
     "output_type": "stream",
     "text": [
      "Message count: 5593\n"
     ]
    }
   ],
   "source": [
    "print('Message count: {0}'.format(df.count()))"
   ]
  },
  {
   "cell_type": "markdown",
   "metadata": {},
   "source": [
    "## Reconstructing telemetry from the binary payload\n",
    "The Body column in the dataframe above is a pickled Python object which encapsulates multiple sensor readings at a given time. Among these readings are:\n",
    "- ambient temperature (°C)\n",
    "- ambient pressure (kPa)\n",
    "- rotational speed (RPM)\n",
    "- temperature (°C)\n",
    "- pressure (kPa)\n",
    "- vibration signal (16 bit integer PCM data at 1024 Hz)\n",
    "\n",
    "The last 4 values describe the state of a machine, whereas the first two describe the operational environment.\n",
    "Below, we are performing the following:\n",
    "- extracting the machine ID from IoT Hub message's SystemProperties\n",
    "- restoring the 6 sensor readings from the binary payload (and adding them as columns to the dataframe)\n",
    "- removing unused IoT Hub message metadata"
   ]
  },
  {
   "cell_type": "code",
   "execution_count": 4,
   "metadata": {},
   "outputs": [
    {
     "name": "stdout",
     "output_type": "stream",
     "text": [
      "root\n",
      " |-- EnqueuedTimeUtc: string (nullable = true)\n",
      " |-- ambient_temperature: double (nullable = true)\n",
      " |-- ambient_pressure: double (nullable = true)\n",
      " |-- speed: double (nullable = true)\n",
      " |-- temperature: double (nullable = true)\n",
      " |-- pressure: double (nullable = true)\n",
      " |-- vibration: array (nullable = true)\n",
      " |    |-- element: short (containsNull = true)\n",
      " |-- machineID: string (nullable = true)\n",
      "\n"
     ]
    }
   ],
   "source": [
    "input_columns = [\n",
    "    (\"ambient_temperature\", DoubleType()),\n",
    "    (\"ambient_pressure\", DoubleType()),\n",
    "    (\"speed\", DoubleType()),\n",
    "    (\"temperature\", DoubleType()),\n",
    "    (\"pressure\", DoubleType()),\n",
    "    (\"vibration\", ArrayType(ShortType()))]\n",
    "\n",
    "def extract_value(c):\n",
    "    \"\"\"Returns a PySpark UDF that un-pickles\n",
    "    the payload, then extracts a value by its key\n",
    "    performing a type conversion if needed.\n",
    "    \"\"\"\n",
    "    def f(x):\n",
    "        v = pickle.loads(x)[c[0]]\n",
    "        if isinstance(v, np.ndarray):\n",
    "            v = v.tolist()\n",
    "        if isinstance(c[1], DoubleType):            \n",
    "            v = float(v)\n",
    "        return v\n",
    "    return udf(f, c[1])\n",
    "\n",
    "# Note: The reduce function provides a concise way of adding many columns to the dataframe at once.\n",
    "# We will be using this pattern a couple of times throughout this notebook.\n",
    "df = (reduce(lambda _df, ic: _df.withColumn(ic[0], extract_value(ic)(df.Body)), input_columns, df)\n",
    "      .withColumn('machineID', df.SystemProperties['connectionDeviceId'])\n",
    "      .drop('Properties', 'SystemProperties', 'Body'))\n",
    "\n",
    "df.printSchema()"
   ]
  },
  {
   "cell_type": "markdown",
   "metadata": {},
   "source": [
    "## Digression: Input sample and service schema\n",
    "Before we proceed and transform the input dataset into features, let's take advantage of having access to the actual input telemetry and take a sample. That way, when performing model operationalization, it won't be necessary to read and reconstruct the raw dataset once again.\n",
    "\n",
    "As mentioned earlier, there are 6 sensor readings coming from each machine. The same sensor readings will be sent to a real-time Web service to get failure predictions from the model."
   ]
  },
  {
   "cell_type": "code",
   "execution_count": 5,
   "metadata": {},
   "outputs": [],
   "source": [
    "input_sample = df.limit(5).select([ic[0] for ic in input_columns])  # select only sensor readings into the sample;\n",
    "                                                                    # no machineID, timestamp, etc\n",
    "\n",
    "# define the input data frame\n",
    "inputs = {\"input_df\": SampleDefinition(DataTypes.SPARK, input_sample)}\n",
    "\n",
    "# dummy run function\n",
    "def run(input_df):\n",
    "    pass\n",
    "\n",
    "json_schema = generate_schema(run_func=run,\n",
    "                              inputs=inputs,\n",
    "                              filepath=os.path.join(AZUREML_NATIVE_SHARE_DIRECTORY,'service_schema.json'))"
   ]
  },
  {
   "cell_type": "markdown",
   "metadata": {},
   "source": [
    "We will need *service_schema.json* when the model is ready to be operationalized. For now, let's leave it at that.\n",
    "\n",
    "## Data exploration\n",
    "\n",
    "### Frequency-domain graph of a single vibration signal sample"
   ]
  },
  {
   "cell_type": "code",
   "execution_count": 6,
   "metadata": {},
   "outputs": [
    {
     "data": {
      "image/png": "[encoded data removed]",
      "text/plain": [
       "<matplotlib.figure.Figure at 0x7fa1a3eb8fd0>"
      ]
     },
     "metadata": {},
     "output_type": "display_data"
    }
   ],
   "source": [
    "vibration = np.array(df.where(df.speed > 1000).first().vibration)\n",
    "sample_rate = 1024\n",
    "\n",
    "ampl = np.abs(np.fft.fft(vibration)) / sample_rate\n",
    "dft = ampl[:sample_rate // 2 + 1].tolist()\n",
    "\n",
    "plt.plot(dft)\n",
    "plt.xlabel('Frequency [Hz]')\n",
    "plt.ylabel('Amplitude [arbitrary unit]')\n",
    "plt.show()"
   ]
  },
  {
   "cell_type": "markdown",
   "metadata": {},
   "source": [
    "### Spectrogram of vibration signal over time\n",
    "\n",
    "This shows how signal's frequencies vary with time as a machine operates at different speeds."
   ]
  },
  {
   "cell_type": "code",
   "execution_count": 7,
   "metadata": {},
   "outputs": [
    {
     "data": {
      "image/png": "[encoded data removed]",
      "text/plain": [
       "<matplotlib.figure.Figure at 0x7fa15e58edd8>"
      ]
     },
     "metadata": {},
     "output_type": "display_data"
    }
   ],
   "source": [
    "k = df.where(df.machineID == 'MACHINE-000').orderBy('EnqueuedTimeUtc').take(20)\n",
    "k = np.concatenate(np.array([x.vibration for x in k]))\n",
    "\n",
    "freqs, times, Sx = signal.spectrogram(k, fs=sample_rate, window='hanning',\n",
    "                                      nperseg=4096, noverlap=4096 - 100,\n",
    "                                      detrend=False, scaling='spectrum')\n",
    "f, ax = plt.subplots(figsize=(9, 5))\n",
    "ax.pcolormesh(times, freqs, 10 * np.log10(Sx), cmap='viridis')\n",
    "ax.set_ylabel('Frequency [Hz]')\n",
    "ax.set_xlabel('Time [s]')\n",
    "plt.show()"
   ]
  },
  {
   "cell_type": "markdown",
   "metadata": {},
   "source": [
    "### Extracting dominant frequencies from a discrete Fourier transform (DFT)"
   ]
  },
  {
   "cell_type": "code",
   "execution_count": 8,
   "metadata": {},
   "outputs": [
    {
     "data": {
      "text/html": [
       "<div>\n",
       "<style>\n",
       "    .dataframe thead tr:only-child th {\n",
       "        text-align: right;\n",
       "    }\n",
       "\n",
       "    .dataframe thead th {\n",
       "        text-align: left;\n",
       "    }\n",
       "\n",
       "    .dataframe tbody tr th {\n",
       "        vertical-align: top;\n",
       "    }\n",
       "</style>\n",
       "<table border=\"1\" class=\"dataframe\">\n",
       "  <thead>\n",
       "    <tr style=\"text-align: right;\">\n",
       "      <th></th>\n",
       "      <th>0</th>\n",
       "      <th>1</th>\n",
       "    </tr>\n",
       "  </thead>\n",
       "  <tbody>\n",
       "    <tr>\n",
       "      <th>0</th>\n",
       "      <td>89.0</td>\n",
       "      <td>285.572770</td>\n",
       "    </tr>\n",
       "    <tr>\n",
       "      <th>1</th>\n",
       "      <td>86.0</td>\n",
       "      <td>252.586112</td>\n",
       "    </tr>\n",
       "    <tr>\n",
       "      <th>2</th>\n",
       "      <td>262.0</td>\n",
       "      <td>232.943997</td>\n",
       "    </tr>\n",
       "    <tr>\n",
       "      <th>3</th>\n",
       "      <td>212.0</td>\n",
       "      <td>223.458704</td>\n",
       "    </tr>\n",
       "    <tr>\n",
       "      <th>4</th>\n",
       "      <td>19.0</td>\n",
       "      <td>182.721843</td>\n",
       "    </tr>\n",
       "  </tbody>\n",
       "</table>\n",
       "</div>"
      ],
      "text/plain": [
       "       0           1\n",
       "0   89.0  285.572770\n",
       "1   86.0  252.586112\n",
       "2  262.0  232.943997\n",
       "3  212.0  223.458704\n",
       "4   19.0  182.721843"
      ]
     },
     "execution_count": 8,
     "metadata": {},
     "output_type": "execute_result"
    }
   ],
   "source": [
    "freq = np.fft.fftfreq(sample_rate, d = 1/sample_rate)[:sample_rate // 2 + 1]\n",
    "max_freq = sorted(list(zip(freq, dft)), key = lambda x: x[1], reverse = True)[10 : ]\n",
    "pdf = pd.DataFrame.from_records(max_freq)\n",
    "pdf.head()"
   ]
  },
  {
   "cell_type": "markdown",
   "metadata": {},
   "source": [
    "## Feature extraction\n",
    "\n",
    "Here, we combine some of the featurization ideas explored earlier into a reusable Python module. Making the featurizer reusable eliminates the need of duplicating its code elsewhere. In this case, we will be consuming this module from the real-time scoring Web service to perform exactly the same transformation on the input dataframe.\n",
    "\n",
    "In a nutshell, the *featurize* function below transforms its input by doing the following:\n",
    "\n",
    "- performing a fast Fourier transform (FFT) of the vibration signal to obtain its amplitude spectrum up to the *Nyquist frequency* (i.e., half the sampling frequency)<sup>[[4]](#ref_4)\n",
    "- extracting *N* dominant frequencies  from the DFT (the output of the FFT)\n",
    "- producing an additional set of normalized features from the ones which are believed to be linearly correlated with the *speed* by means of simple division"
   ]
  },
  {
   "cell_type": "code",
   "execution_count": 12,
   "metadata": {},
   "outputs": [
    {
     "name": "stdout",
     "output_type": "stream",
     "text": [
      "Overwriting /mnt/azureml-share/featurization.py\n"
     ]
    }
   ],
   "source": [
    "%%writefile $AZUREML_NATIVE_SHARE_DIRECTORY/featurization.py\n",
    "\n",
    "import numpy as np\n",
    "from pyspark.sql.types import DoubleType, ArrayType, ShortType, LongType, IntegerType\n",
    "from functools import reduce\n",
    "from pyspark.ml.feature import StringIndexer, VectorAssembler, VectorIndexer\n",
    "from pyspark.sql.functions import udf, col\n",
    "from pyspark.storagelevel import StorageLevel\n",
    "\n",
    "def featurize(input_df, persist = False):\n",
    "    sample_rate = 1024\n",
    "    \n",
    "    def extract_amplitude_spectrum(x):\n",
    "        ampl = np.abs(np.fft.fft(x)) / sample_rate\n",
    "        return ampl[:sample_rate // 2 + 1].tolist()\n",
    "\n",
    "    extract_amplitude_spectrum_udf = udf(extract_amplitude_spectrum, ArrayType(DoubleType()))\n",
    "\n",
    "    def extract_dominant_frequencies(index):\n",
    "        def m(ff):\n",
    "            freq = np.fft.fftfreq(sample_rate, d = 1/sample_rate)[:sample_rate // 2 + 1]\n",
    "            return [float(f[index]) for f in sorted(list(zip(freq, ff)), key = lambda x: x[1], reverse = True)]\n",
    "\n",
    "        return udf(m, ArrayType(DoubleType()))\n",
    "\n",
    "    features_df = input_df.withColumn(\"fft\", extract_amplitude_spectrum_udf(input_df.vibration))\n",
    "\n",
    "    features_df = (features_df\n",
    "           .withColumn(\"dominant_frequencies\", extract_dominant_frequencies(0)(features_df.fft))\n",
    "           .withColumn(\"dominant_frequencies_amplitudes\", extract_dominant_frequencies(1)(features_df.fft))\n",
    "           .where(features_df.speed > 0))\n",
    "\n",
    "    frequency_features = 3\n",
    "    features_df = reduce(lambda _df, i: _df.withColumn('f{0}'.format(i), _df.dominant_frequencies[i]), range(frequency_features), features_df)\n",
    "    features_df = reduce(lambda _df, i: _df.withColumn('a{0}'.format(i), _df.dominant_frequencies_amplitudes[i]), range(frequency_features), features_df)\n",
    "        \n",
    "    features_df = features_df.drop('vibration', 'fft', 'dominant_frequencies', 'dominant_frequencies_amplitudes')\n",
    "    \n",
    "    if persist:\n",
    "        features_df.persist(StorageLevel.MEMORY_AND_DISK)\n",
    "\n",
    "    dependent_features = [c for c in features_df.columns if c not in ['machineID', 'EnqueuedTimeUtc', 'speed', 'ambient_pressure', 'ambient_temperature']]\n",
    "    features_df = reduce(lambda _df, f: _df.withColumn('{0}_n'.format(f), col(f) / col('speed')), dependent_features, features_df)\n",
    "    \n",
    "    return features_df"
   ]
  },
  {
   "cell_type": "code",
   "execution_count": 13,
   "metadata": {},
   "outputs": [],
   "source": [
    "%run $AZUREML_NATIVE_SHARE_DIRECTORY/featurization.py"
   ]
  },
  {
   "cell_type": "code",
   "execution_count": 14,
   "metadata": {},
   "outputs": [
    {
     "name": "stdout",
     "output_type": "stream",
     "text": [
      "root\n",
      " |-- EnqueuedTimeUtc: string (nullable = true)\n",
      " |-- ambient_temperature: double (nullable = true)\n",
      " |-- ambient_pressure: double (nullable = true)\n",
      " |-- speed: double (nullable = true)\n",
      " |-- temperature: double (nullable = true)\n",
      " |-- pressure: double (nullable = true)\n",
      " |-- machineID: string (nullable = true)\n",
      " |-- f0: double (nullable = true)\n",
      " |-- f1: double (nullable = true)\n",
      " |-- f2: double (nullable = true)\n",
      " |-- a0: double (nullable = true)\n",
      " |-- a1: double (nullable = true)\n",
      " |-- a2: double (nullable = true)\n",
      " |-- temperature_n: double (nullable = true)\n",
      " |-- pressure_n: double (nullable = true)\n",
      " |-- f0_n: double (nullable = true)\n",
      " |-- f1_n: double (nullable = true)\n",
      " |-- f2_n: double (nullable = true)\n",
      " |-- a0_n: double (nullable = true)\n",
      " |-- a1_n: double (nullable = true)\n",
      " |-- a2_n: double (nullable = true)\n",
      "\n"
     ]
    }
   ],
   "source": [
    "features_df = featurize(df, True)\n",
    "features_df.printSchema()"
   ]
  },
  {
   "cell_type": "markdown",
   "metadata": {},
   "source": [
    "### Persisting the featurized dataset\n",
    "\n",
    "Now, let's write the featurized dataset into Azure storage. This step, depending on the size of the raw input data and available compute power, may take some time. Spark favors lazy evaluation, which means that all the transformations we have performed so far didn't actually take place. The code below will force Spark to evaluate the entire dataset."
   ]
  },
  {
   "cell_type": "code",
   "execution_count": 15,
   "metadata": {},
   "outputs": [
    {
     "data": {
      "text/html": [
       "<div>\n",
       "<style>\n",
       "    .dataframe thead tr:only-child th {\n",
       "        text-align: right;\n",
       "    }\n",
       "\n",
       "    .dataframe thead th {\n",
       "        text-align: left;\n",
       "    }\n",
       "\n",
       "    .dataframe tbody tr th {\n",
       "        vertical-align: top;\n",
       "    }\n",
       "</style>\n",
       "<table border=\"1\" class=\"dataframe\">\n",
       "  <thead>\n",
       "    <tr style=\"text-align: right;\">\n",
       "      <th></th>\n",
       "      <th>EnqueuedTimeUtc</th>\n",
       "      <th>ambient_temperature</th>\n",
       "      <th>ambient_pressure</th>\n",
       "      <th>speed</th>\n",
       "      <th>temperature</th>\n",
       "      <th>pressure</th>\n",
       "      <th>machineID</th>\n",
       "      <th>f0</th>\n",
       "      <th>f1</th>\n",
       "      <th>f2</th>\n",
       "      <th>...</th>\n",
       "      <th>a1</th>\n",
       "      <th>a2</th>\n",
       "      <th>temperature_n</th>\n",
       "      <th>pressure_n</th>\n",
       "      <th>f0_n</th>\n",
       "      <th>f1_n</th>\n",
       "      <th>f2_n</th>\n",
       "      <th>a0_n</th>\n",
       "      <th>a1_n</th>\n",
       "      <th>a2_n</th>\n",
       "    </tr>\n",
       "  </thead>\n",
       "  <tbody>\n",
       "    <tr>\n",
       "      <th>0</th>\n",
       "      <td>2018-04-19T23:36:49.4710000Z</td>\n",
       "      <td>20.0</td>\n",
       "      <td>101.0</td>\n",
       "      <td>897.0</td>\n",
       "      <td>83.01</td>\n",
       "      <td>1345.5</td>\n",
       "      <td>MACHINE-008</td>\n",
       "      <td>179.0</td>\n",
       "      <td>60.0</td>\n",
       "      <td>30.0</td>\n",
       "      <td>...</td>\n",
       "      <td>1400.810515</td>\n",
       "      <td>1284.580857</td>\n",
       "      <td>0.092542</td>\n",
       "      <td>1.5</td>\n",
       "      <td>0.199554</td>\n",
       "      <td>0.066890</td>\n",
       "      <td>0.033445</td>\n",
       "      <td>1.790407</td>\n",
       "      <td>1.561662</td>\n",
       "      <td>1.432086</td>\n",
       "    </tr>\n",
       "    <tr>\n",
       "      <th>1</th>\n",
       "      <td>2018-04-19T23:36:49.4710000Z</td>\n",
       "      <td>20.0</td>\n",
       "      <td>101.0</td>\n",
       "      <td>1051.0</td>\n",
       "      <td>99.65</td>\n",
       "      <td>2102.0</td>\n",
       "      <td>MACHINE-003</td>\n",
       "      <td>210.0</td>\n",
       "      <td>70.0</td>\n",
       "      <td>35.0</td>\n",
       "      <td>...</td>\n",
       "      <td>1482.595838</td>\n",
       "      <td>1324.614822</td>\n",
       "      <td>0.094814</td>\n",
       "      <td>2.0</td>\n",
       "      <td>0.199810</td>\n",
       "      <td>0.066603</td>\n",
       "      <td>0.033302</td>\n",
       "      <td>1.893153</td>\n",
       "      <td>1.410653</td>\n",
       "      <td>1.260338</td>\n",
       "    </tr>\n",
       "    <tr>\n",
       "      <th>2</th>\n",
       "      <td>2018-04-19T23:36:49.5650000Z</td>\n",
       "      <td>20.0</td>\n",
       "      <td>101.0</td>\n",
       "      <td>1146.0</td>\n",
       "      <td>108.17</td>\n",
       "      <td>2292.0</td>\n",
       "      <td>MACHINE-001</td>\n",
       "      <td>229.0</td>\n",
       "      <td>38.0</td>\n",
       "      <td>76.0</td>\n",
       "      <td>...</td>\n",
       "      <td>1234.790476</td>\n",
       "      <td>1096.666836</td>\n",
       "      <td>0.094389</td>\n",
       "      <td>2.0</td>\n",
       "      <td>0.199825</td>\n",
       "      <td>0.033159</td>\n",
       "      <td>0.066318</td>\n",
       "      <td>1.741760</td>\n",
       "      <td>1.077479</td>\n",
       "      <td>0.956952</td>\n",
       "    </tr>\n",
       "    <tr>\n",
       "      <th>3</th>\n",
       "      <td>2018-04-19T23:36:49.5810000Z</td>\n",
       "      <td>20.0</td>\n",
       "      <td>101.0</td>\n",
       "      <td>982.0</td>\n",
       "      <td>92.20</td>\n",
       "      <td>1964.0</td>\n",
       "      <td>MACHINE-009</td>\n",
       "      <td>33.0</td>\n",
       "      <td>295.0</td>\n",
       "      <td>32.0</td>\n",
       "      <td>...</td>\n",
       "      <td>5589.206241</td>\n",
       "      <td>3975.033686</td>\n",
       "      <td>0.093890</td>\n",
       "      <td>2.0</td>\n",
       "      <td>0.033605</td>\n",
       "      <td>0.300407</td>\n",
       "      <td>0.032587</td>\n",
       "      <td>11.063175</td>\n",
       "      <td>5.691656</td>\n",
       "      <td>4.047896</td>\n",
       "    </tr>\n",
       "    <tr>\n",
       "      <th>4</th>\n",
       "      <td>2018-04-19T23:36:49.5810000Z</td>\n",
       "      <td>20.0</td>\n",
       "      <td>101.0</td>\n",
       "      <td>986.0</td>\n",
       "      <td>92.63</td>\n",
       "      <td>1972.0</td>\n",
       "      <td>MACHINE-004</td>\n",
       "      <td>197.0</td>\n",
       "      <td>66.0</td>\n",
       "      <td>33.0</td>\n",
       "      <td>...</td>\n",
       "      <td>1294.148837</td>\n",
       "      <td>1253.794341</td>\n",
       "      <td>0.093945</td>\n",
       "      <td>2.0</td>\n",
       "      <td>0.199797</td>\n",
       "      <td>0.066937</td>\n",
       "      <td>0.033469</td>\n",
       "      <td>2.012375</td>\n",
       "      <td>1.312524</td>\n",
       "      <td>1.271597</td>\n",
       "    </tr>\n",
       "  </tbody>\n",
       "</table>\n",
       "<p>5 rows × 21 columns</p>\n",
       "</div>"
      ],
      "text/plain": [
       "                EnqueuedTimeUtc  ambient_temperature  ambient_pressure  \\\n",
       "0  2018-04-19T23:36:49.4710000Z                 20.0             101.0   \n",
       "1  2018-04-19T23:36:49.4710000Z                 20.0             101.0   \n",
       "2  2018-04-19T23:36:49.5650000Z                 20.0             101.0   \n",
       "3  2018-04-19T23:36:49.5810000Z                 20.0             101.0   \n",
       "4  2018-04-19T23:36:49.5810000Z                 20.0             101.0   \n",
       "\n",
       "    speed  temperature  pressure    machineID     f0     f1    f2    ...     \\\n",
       "0   897.0        83.01    1345.5  MACHINE-008  179.0   60.0  30.0    ...      \n",
       "1  1051.0        99.65    2102.0  MACHINE-003  210.0   70.0  35.0    ...      \n",
       "2  1146.0       108.17    2292.0  MACHINE-001  229.0   38.0  76.0    ...      \n",
       "3   982.0        92.20    1964.0  MACHINE-009   33.0  295.0  32.0    ...      \n",
       "4   986.0        92.63    1972.0  MACHINE-004  197.0   66.0  33.0    ...      \n",
       "\n",
       "            a1           a2  temperature_n  pressure_n      f0_n      f1_n  \\\n",
       "0  1400.810515  1284.580857       0.092542         1.5  0.199554  0.066890   \n",
       "1  1482.595838  1324.614822       0.094814         2.0  0.199810  0.066603   \n",
       "2  1234.790476  1096.666836       0.094389         2.0  0.199825  0.033159   \n",
       "3  5589.206241  3975.033686       0.093890         2.0  0.033605  0.300407   \n",
       "4  1294.148837  1253.794341       0.093945         2.0  0.199797  0.066937   \n",
       "\n",
       "       f2_n       a0_n      a1_n      a2_n  \n",
       "0  0.033445   1.790407  1.561662  1.432086  \n",
       "1  0.033302   1.893153  1.410653  1.260338  \n",
       "2  0.066318   1.741760  1.077479  0.956952  \n",
       "3  0.032587  11.063175  5.691656  4.047896  \n",
       "4  0.033469   2.012375  1.312524  1.271597  \n",
       "\n",
       "[5 rows x 21 columns]"
      ]
     },
     "execution_count": 15,
     "metadata": {},
     "output_type": "execute_result"
    }
   ],
   "source": [
    "wasbUrlOutput = \"wasb://{0}@{1}.blob.{2}/features.parquet\".format(\n",
    "            'intermediate',\n",
    "            STAGING_STORAGE_ACCOUNT_NAME,\n",
    "            STORAGE_ACCOUNT_SUFFIX)\n",
    "\n",
    "features_df.write.parquet(wasbUrlOutput, mode=\"overwrite\")\n",
    "\n",
    "features_df.limit(5).toPandas().head()"
   ]
  },
  {
   "cell_type": "markdown",
   "metadata": {},
   "source": [
    "## References\n",
    "<a name=\"ref_1\"></a>1.  [Big Data: Week 3 Video 3 - Feature Engineering](https://www.youtube.com/watch?v=drUToKxEAUA). youtube.com.\n",
    "\n",
    "<a name=\"ref_2\"></a>2.  [Save IoT hub messages that contain sensor data to your Azure blob storage](https://docs.microsoft.com/en-us/azure/iot-hub/iot-hub-store-data-in-azure-table-storage)\n",
    "\n",
    "<a name=\"ref_3\"></a>3.  [Azure Event Hubs Capture](https://docs.microsoft.com/en-us/azure/event-hubs/event-hubs-capture-overview)\n",
    "\n",
    "<a name=\"ref_4\"></a>4.  [Digital Signal Processing Using MATLAB for Students and Researchers](https://books.google.com/books?id=Qtd-e1NtZVkC&pg=PA82#v=onepage&q&f=false). John Wiley & Sons. p. 82. ISBN 9781118033807. \"The Nyquist rate is twice the bandwidth of the signal ... The Nyquist frequency or folding frequency is half the sampling rate and corresponds to the highest frequency which a sampled data system can reproduce without error.\""
   ]
  }
 ],
 "metadata": {
  "kernelspec": {
   "display_name": "PySpark",
   "language": "python",
   "name": "pyspark"
  }
 },
 "nbformat": 4,
 "nbformat_minor": 2
}
