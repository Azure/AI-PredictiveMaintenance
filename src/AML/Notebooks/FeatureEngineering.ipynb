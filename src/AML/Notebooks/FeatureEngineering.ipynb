{
 "cells": [
  {
   "cell_type": "markdown",
   "metadata": {},
   "source": [
    "# Feature Engineering\n",
    "\n",
    "In machine learning, a feature is an individual measurable attribute of a phenomenon being observed. The extraction of features from raw training data is called *feature engineering*. In other words, feature engineering is a process of transforming raw training data into a *representation* suitable for the application of machine learning algorithms.\n",
    "\n",
    "This process usually requires a certain degree of domain expertise and can be divided into the following stages <sup>[[1]](#ref_1)</sup>: \n",
    "- Brainstorming on features\n",
    "- Deciding what features to create\n",
    "- Creating features\n",
    "- Studying how the features impact model's predictive accuracy\n",
    "- Iterating if necessary"
   ]
  },
  {
   "cell_type": "code",
   "execution_count": 1,
   "metadata": {},
   "outputs": [],
   "source": [
    "%matplotlib inline\n",
    "import os\n",
    "import json\n",
    "import pickle\n",
    "import pyspark\n",
    "from functools import reduce\n",
    "from pyspark.sql import SparkSession, SQLContext\n",
    "from pyspark.sql.functions import udf, mean, lit, stddev, col, expr, when, date_sub\n",
    "from pyspark.sql.types import DoubleType, ArrayType, ShortType, LongType, IntegerType, TimestampType, StructType, StringType, StructField\n",
    "import pandas as pd\n",
    "from collections import OrderedDict\n",
    "from datetime import date\n",
    "import numpy as np\n",
    "from scipy import signal\n",
    "import matplotlib.pyplot as plt\n",
    "from pyspark.storagelevel import StorageLevel\n",
    "\n",
    "from azureml.api.schema.dataTypes import DataTypes\n",
    "from azureml.api.schema.sampleDefinition import SampleDefinition\n",
    "from azureml.api.realtime.services import generate_schema\n",
    "\n",
    "STORAGE_ACCOUNT_SUFFIX = 'core.windows.net'\n",
    "\n",
    "TELEMETRY_STORAGE_ACCOUNT_NAME = os.getenv('TELEMETRY_STORAGE_ACCOUNT_NAME')\n",
    "TELEMETRY_STORAGE_ACCOUNT_KEY = os.getenv('TELEMETRY_STORAGE_ACCOUNT_KEY')\n",
    "TELEMETRY_CONTAINER_NAME = os.getenv('TELEMETRY_CONTAINER_NAME')\n",
    "LOGS_ARCHIVE_CONTAINER_NAME = 'logs-archive' #TODO: introduce environment variables\n",
    "STAGING_STORAGE_ACCOUNT_NAME = os.getenv('STAGING_STORAGE_ACCOUNT_NAME')\n",
    "STAGING_STORAGE_ACCOUNT_KEY = os.getenv('STAGING_STORAGE_ACCOUNT_KEY')\n",
    "AZUREML_NATIVE_SHARE_DIRECTORY = os.getenv('AZUREML_NATIVE_SHARE_DIRECTORY') + 'Solution1'"
   ]
  },
  {
   "cell_type": "markdown",
   "metadata": {},
   "source": [
    "##  Reading raw training data\n",
    "\n",
    "### Telemetry data\n",
    "First, let's read the raw telemetry dataset from Azure Blob storage into a Spark dataframe. This dataset consists of IoT Hub messages that contain sensor readings<sup>[[2]](#ref_2)</sup>. Captured data is written in Apache Avro format: a compact, fast, binary format that provides rich data structures with inline schema<sup>[[3]](#ref_3)</sup>."
   ]
  },
  {
   "cell_type": "code",
   "execution_count": 2,
   "metadata": {},
   "outputs": [
    {
     "name": "stdout",
     "output_type": "stream",
     "text": [
      "root\n",
      " |-- EnqueuedTimeUtc: string (nullable = true)\n",
      " |-- Properties: map (nullable = true)\n",
      " |    |-- key: string\n",
      " |    |-- value: string (valueContainsNull = true)\n",
      " |-- SystemProperties: map (nullable = true)\n",
      " |    |-- key: string\n",
      " |    |-- value: string (valueContainsNull = true)\n",
      " |-- Body: binary (nullable = true)\n",
      "\n"
     ]
    }
   ],
   "source": [
    "wasbTelemetryUrl = \"wasb://{0}@{1}.blob.{2}/*/*/*/*/*/*/*\".format(\n",
    "            TELEMETRY_CONTAINER_NAME,\n",
    "            TELEMETRY_STORAGE_ACCOUNT_NAME,\n",
    "            STORAGE_ACCOUNT_SUFFIX)\n",
    "\n",
    "sc = SparkSession.builder.getOrCreate()\n",
    "hc = sc._jsc.hadoopConfiguration()\n",
    "hc.set(\"avro.mapred.ignore.inputs.without.extension\", \"false\")\n",
    "\n",
    "if TELEMETRY_STORAGE_ACCOUNT_KEY:\n",
    "    hc.set(\"fs.azure.account.key.{}.blob.core.windows.net\"\n",
    "           .format(TELEMETRY_STORAGE_ACCOUNT_NAME), TELEMETRY_STORAGE_ACCOUNT_KEY)\n",
    "\n",
    "hc.set(\"fs.azure.account.key.{}.blob.core.windows.net\"\n",
    "       .format(STAGING_STORAGE_ACCOUNT_NAME), STAGING_STORAGE_ACCOUNT_KEY)\n",
    "    \n",
    "sql = SQLContext.getOrCreate(sc)\n",
    "\n",
    "telemetry_df = sql.read.format(\"com.databricks.spark.avro\").load(wasbTelemetryUrl)\n",
    "\n",
    "telemetry_df.printSchema()"
   ]
  },
  {
   "cell_type": "markdown",
   "metadata": {},
   "source": [
    "### Event logs\n",
    "\n",
    "Our second input dataset contains event logs in CSV format. The assumption we make here is that some events may be automatically triggered by monitoring equipment, and some may be created as a result of human intervension, such as an inspection or maintenance. These are the columns present in the event logs:\n",
    "\n",
    "- timestamp\n",
    "- level (INFO, WARNING, ERROR, CRITICAL)\n",
    "- machine ID\n",
    "- code (identifies event type)\n",
    "- message (contains additional details)\n",
    "\n",
    "Sometimes event logs themselves serve as the primary input for training a predictive model<sup>[[4]](#ref_4)</sup>. In our case, the logs don't feature rich and sizeable data. Yet, they will play a crucial role in helping us assign classes to the feature vectors (or, in other words, label our training dataset)."
   ]
  },
  {
   "cell_type": "code",
   "execution_count": 3,
   "metadata": {},
   "outputs": [
    {
     "name": "stdout",
     "output_type": "stream",
     "text": [
      "root\n",
      " |-- timestamp: timestamp (nullable = true)\n",
      " |-- level: string (nullable = true)\n",
      " |-- machineID: string (nullable = true)\n",
      " |-- code: string (nullable = true)\n",
      " |-- message: string (nullable = true)\n",
      "\n"
     ]
    }
   ],
   "source": [
    "wasbTelemetryUrl = \"wasb://{0}@{1}.blob.{2}/*.log\".format(\n",
    "            LOGS_ARCHIVE_CONTAINER_NAME,\n",
    "            TELEMETRY_STORAGE_ACCOUNT_NAME,\n",
    "            STORAGE_ACCOUNT_SUFFIX)\n",
    "\n",
    "logs_df = sql.read.csv(wasbTelemetryUrl, header=False)\n",
    "\n",
    "logs_df = logs_df.select(\n",
    "    col('_c0').cast(TimestampType()).alias('timestamp'),\n",
    "    col('_c1').alias('level'),\n",
    "    col('_c2').alias('machineID'),\n",
    "    col('_c3').alias('code'),\n",
    "    col('_c4').alias('message')\n",
    ")\n",
    "\n",
    "logs_df.printSchema()"
   ]
  },
  {
   "cell_type": "code",
   "execution_count": 4,
   "metadata": {},
   "outputs": [
    {
     "name": "stdout",
     "output_type": "stream",
     "text": [
      "Telemetry message count: 202649\n",
      "Event log entry count: 22\n"
     ]
    }
   ],
   "source": [
    "print('Telemetry message count: {0}'.format(telemetry_df.count()))\n",
    "print('Event log entry count: {0}'.format(logs_df.count()))"
   ]
  },
  {
   "cell_type": "markdown",
   "metadata": {},
   "source": [
    "## Reconstructing telemetry from the binary payload\n",
    "The Body column in the telemetry dataframe above is a pickled Python object which encapsulates multiple sensor readings at a given time. Among these readings are:\n",
    "- ambient temperature (°C)\n",
    "- ambient pressure (kPa)\n",
    "- rotational speed (RPM)\n",
    "- temperature (°C)\n",
    "- pressure (kPa)\n",
    "- vibration signal (16 bit integer PCM data at 1024 Hz)\n",
    "\n",
    "The last 4 values describe the state of a machine, whereas the first two describe the operational environment.\n",
    "Below, we are performing the following:\n",
    "- extracting the machine ID from IoT Hub message's *SystemProperties*\n",
    "- converting IoT Hub's *EnqueuedTimeUtc* into Spark's native TimestampType\n",
    "- restoring the 6 sensor readings from the binary payload (and adding them as columns to the dataframe)\n",
    "- removing unused IoT Hub message metadata"
   ]
  },
  {
   "cell_type": "code",
   "execution_count": 5,
   "metadata": {},
   "outputs": [
    {
     "name": "stdout",
     "output_type": "stream",
     "text": [
      "root\n",
      " |-- machineID: string (nullable = true)\n",
      " |-- timestamp: timestamp (nullable = true)\n",
      " |-- ambient_temperature: double (nullable = true)\n",
      " |-- ambient_pressure: double (nullable = true)\n",
      " |-- speed: double (nullable = true)\n",
      " |-- temperature: double (nullable = true)\n",
      " |-- pressure: double (nullable = true)\n",
      " |-- vibration: array (nullable = true)\n",
      " |    |-- element: short (containsNull = true)\n",
      "\n"
     ]
    }
   ],
   "source": [
    "input_columns = [\n",
    "    (\"ambient_temperature\", DoubleType()),\n",
    "    (\"ambient_pressure\", DoubleType()),\n",
    "    (\"speed\", DoubleType()),\n",
    "    (\"temperature\", DoubleType()),\n",
    "    (\"pressure\", DoubleType()),\n",
    "    (\"vibration\", ArrayType(ShortType()))]\n",
    "\n",
    "def extract_value(c):\n",
    "    \"\"\"Returns a PySpark UDF that un-pickles\n",
    "    the payload, then extracts a value by its key\n",
    "    performing a type conversion if needed.\n",
    "    \"\"\"\n",
    "    def f(x):\n",
    "        v = pickle.loads(x)[c[0]]\n",
    "        if isinstance(v, np.ndarray):\n",
    "            v = v.tolist()\n",
    "        if isinstance(c[1], DoubleType):            \n",
    "            v = float(v)\n",
    "        return v\n",
    "    return udf(f, c[1])\n",
    "\n",
    "telemetry_df = (telemetry_df\n",
    "      .withColumn('machineID', telemetry_df.SystemProperties['connectionDeviceId'])\n",
    "      .withColumn(\"timestamp\", telemetry_df['EnqueuedTimeUtc'].cast(TimestampType())))\n",
    "\n",
    "# Note: The reduce function provides a concise way of adding many columns to the dataframe at once.\n",
    "# We will be using this pattern a couple of times throughout this notebook.\n",
    "telemetry_df = (reduce(lambda _df, ic: _df.withColumn(ic[0], extract_value(ic)(telemetry_df.Body)), input_columns, telemetry_df)\n",
    "      .drop('Properties', 'SystemProperties', 'Body', 'EnqueuedTimeUtc'))\n",
    "\n",
    "telemetry_df.printSchema()"
   ]
  },
  {
   "cell_type": "markdown",
   "metadata": {},
   "source": [
    "## Digression: Input sample and service schema\n",
    "Before we proceed and transform the input dataset into features, let's take advantage of having access to the actual input telemetry and take a sample. That way, when performing model operationalization, it won't be necessary to read and reconstruct the raw dataset once again.\n",
    "\n",
    "As mentioned earlier, there are 6 sensor readings coming from each machine. The same sensor readings will be sent to a real-time Web service to get failure predictions from the model."
   ]
  },
  {
   "cell_type": "code",
   "execution_count": 6,
   "metadata": {},
   "outputs": [],
   "source": [
    "input_sample = telemetry_df.limit(5).select([ic[0] for ic in input_columns])  # select only sensor readings into the sample;\n",
    "                                                                    # no machineID, timestamp, etc\n",
    "\n",
    "# define the input data frame\n",
    "inputs = {\"input_df\": SampleDefinition(DataTypes.SPARK, input_sample)}\n",
    "\n",
    "# dummy run function\n",
    "def run(input_df):\n",
    "    pass\n",
    "\n",
    "json_schema = generate_schema(run_func=run,\n",
    "                              inputs=inputs,\n",
    "                              filepath=os.path.join(AZUREML_NATIVE_SHARE_DIRECTORY,'service_schema.json'))"
   ]
  },
  {
   "cell_type": "markdown",
   "metadata": {},
   "source": [
    "We will need *service_schema.json* when the model is ready to be operationalized. For now, let's leave it at that.\n",
    "\n",
    "## Data exploration\n",
    "\n",
    "### Frequency-domain graph of a single vibration signal sample"
   ]
  },
  {
   "cell_type": "code",
   "execution_count": 7,
   "metadata": {},
   "outputs": [
    {
     "data": {
      "image/png": "[encoded data removed]",
      "text/plain": [
       "<matplotlib.figure.Figure at 0x7f8358ad6e80>"
      ]
     },
     "metadata": {},
     "output_type": "display_data"
    }
   ],
   "source": [
    "vibration = np.array(telemetry_df.where(telemetry_df.speed > 1000).first().vibration)\n",
    "sample_rate = 1024\n",
    "\n",
    "ampl = np.abs(np.fft.fft(vibration)) / sample_rate\n",
    "dft = ampl[:sample_rate // 2 + 1].tolist()\n",
    "\n",
    "plt.plot(dft)\n",
    "plt.xlabel('Frequency [Hz]')\n",
    "plt.ylabel('Amplitude [arbitrary unit]')\n",
    "plt.show()"
   ]
  },
  {
   "cell_type": "markdown",
   "metadata": {},
   "source": [
    "### Spectrogram of vibration signal over time\n",
    "\n",
    "This shows how signal's frequencies vary with time as a machine operates at different speeds."
   ]
  },
  {
   "cell_type": "code",
   "execution_count": 8,
   "metadata": {},
   "outputs": [
    {
     "data": {
      "image/png": "[encoded data removed]",
      "text/plain": [
       "<matplotlib.figure.Figure at 0x7f8358b64b38>"
      ]
     },
     "metadata": {},
     "output_type": "display_data"
    }
   ],
   "source": [
    "k = telemetry_df.where(telemetry_df.machineID == 'MACHINE-000').orderBy('EnqueuedTimeUtc').take(20)\n",
    "k = np.concatenate(np.array([x.vibration for x in k]))\n",
    "\n",
    "freqs, times, Sx = signal.spectrogram(k, fs=sample_rate, window='hanning',\n",
    "                                      nperseg=4096, noverlap=4096 - 100,\n",
    "                                      detrend=False, scaling='spectrum')\n",
    "f, ax = plt.subplots(figsize=(9, 5))\n",
    "ax.pcolormesh(times, freqs, 10 * np.log10(Sx), cmap='viridis')\n",
    "ax.set_ylabel('Frequency [Hz]')\n",
    "ax.set_xlabel('Time [s]')\n",
    "plt.show()"
   ]
  },
  {
   "cell_type": "markdown",
   "metadata": {},
   "source": [
    "### Extracting dominant frequencies from a discrete Fourier transform (DFT)"
   ]
  },
  {
   "cell_type": "code",
   "execution_count": 9,
   "metadata": {},
   "outputs": [
    {
     "data": {
      "text/html": [
       "<div>\n",
       "<style>\n",
       "    .dataframe thead tr:only-child th {\n",
       "        text-align: right;\n",
       "    }\n",
       "\n",
       "    .dataframe thead th {\n",
       "        text-align: left;\n",
       "    }\n",
       "\n",
       "    .dataframe tbody tr th {\n",
       "        vertical-align: top;\n",
       "    }\n",
       "</style>\n",
       "<table border=\"1\" class=\"dataframe\">\n",
       "  <thead>\n",
       "    <tr style=\"text-align: right;\">\n",
       "      <th></th>\n",
       "      <th>0</th>\n",
       "      <th>1</th>\n",
       "    </tr>\n",
       "  </thead>\n",
       "  <tbody>\n",
       "    <tr>\n",
       "      <th>0</th>\n",
       "      <td>256.0</td>\n",
       "      <td>481.195621</td>\n",
       "    </tr>\n",
       "    <tr>\n",
       "      <th>1</th>\n",
       "      <td>240.0</td>\n",
       "      <td>474.285027</td>\n",
       "    </tr>\n",
       "    <tr>\n",
       "      <th>2</th>\n",
       "      <td>106.0</td>\n",
       "      <td>469.026084</td>\n",
       "    </tr>\n",
       "    <tr>\n",
       "      <th>3</th>\n",
       "      <td>83.0</td>\n",
       "      <td>468.944965</td>\n",
       "    </tr>\n",
       "    <tr>\n",
       "      <th>4</th>\n",
       "      <td>245.0</td>\n",
       "      <td>459.419655</td>\n",
       "    </tr>\n",
       "  </tbody>\n",
       "</table>\n",
       "</div>"
      ],
      "text/plain": [
       "       0           1\n",
       "0  256.0  481.195621\n",
       "1  240.0  474.285027\n",
       "2  106.0  469.026084\n",
       "3   83.0  468.944965\n",
       "4  245.0  459.419655"
      ]
     },
     "execution_count": 9,
     "metadata": {},
     "output_type": "execute_result"
    }
   ],
   "source": [
    "freq = np.fft.fftfreq(sample_rate, d = 1/sample_rate)[:sample_rate // 2 + 1]\n",
    "max_freq = sorted(list(zip(freq, dft)), key = lambda x: x[1], reverse = True)[10 : ]\n",
    "pdf = pd.DataFrame.from_records(max_freq)\n",
    "pdf.head()"
   ]
  },
  {
   "cell_type": "markdown",
   "metadata": {},
   "source": [
    "## Feature extraction\n",
    "\n",
    "Here, we combine some of the featurization ideas explored earlier into a reusable Python module. Making the featurizer reusable eliminates the need of duplicating its code elsewhere. In this case, we will be consuming this module from the real-time scoring Web service to perform exactly the same transformation on the input dataframe.\n",
    "\n",
    "In a nutshell, the *featurize* function below transforms its input by doing the following:\n",
    "\n",
    "- performing a fast Fourier transform (FFT) of the vibration signal to obtain its amplitude spectrum up to the *Nyquist frequency* (i.e., half the sampling frequency)<sup>[[5]](#ref_5)</sup>\n",
    "- extracting *N* dominant frequencies  from the DFT (the output of the FFT)\n",
    "- producing an additional set of normalized features from the ones which are believed to be linearly correlated with the *speed* by means of simple division"
   ]
  },
  {
   "cell_type": "code",
   "execution_count": 10,
   "metadata": {},
   "outputs": [
    {
     "name": "stdout",
     "output_type": "stream",
     "text": [
      "Overwriting /mnt/azureml-share/featurization.py\n"
     ]
    }
   ],
   "source": [
    "%%writefile $AZUREML_NATIVE_SHARE_DIRECTORY/featurization.py\n",
    "\n",
    "import numpy as np\n",
    "from pyspark.sql.types import DoubleType, ArrayType, ShortType, LongType, IntegerType\n",
    "from functools import reduce\n",
    "from pyspark.ml.feature import StringIndexer, VectorAssembler, VectorIndexer\n",
    "from pyspark.sql.functions import udf, col\n",
    "from pyspark.storagelevel import StorageLevel\n",
    "\n",
    "def featurize(input_df, persist = False):\n",
    "    sample_rate = 1024\n",
    "    \n",
    "    def extract_amplitude_spectrum(x):\n",
    "        ampl = np.abs(np.fft.fft(x)) / sample_rate\n",
    "        return ampl[:sample_rate // 2 + 1].tolist()\n",
    "\n",
    "    extract_amplitude_spectrum_udf = udf(extract_amplitude_spectrum, ArrayType(DoubleType()))\n",
    "\n",
    "    def extract_dominant_frequencies(index):\n",
    "        def m(ff):\n",
    "            freq = np.fft.fftfreq(sample_rate, d = 1/sample_rate)[:sample_rate // 2 + 1]\n",
    "            return [float(f[index]) for f in sorted(list(zip(freq, ff)), key = lambda x: x[1], reverse = True)]\n",
    "\n",
    "        return udf(m, ArrayType(DoubleType()))\n",
    "\n",
    "    features_df = input_df.withColumn(\"fft\", extract_amplitude_spectrum_udf(input_df.vibration))\n",
    "\n",
    "    features_df = (features_df\n",
    "           .withColumn(\"dominant_frequencies\", extract_dominant_frequencies(0)(features_df.fft))\n",
    "           .withColumn(\"dominant_frequencies_amplitudes\", extract_dominant_frequencies(1)(features_df.fft))\n",
    "           .where(features_df.speed > 0))\n",
    "\n",
    "    frequency_features = 3\n",
    "    features_df = reduce(lambda _df, i: _df.withColumn('f{0}'.format(i), _df.dominant_frequencies[i]), range(frequency_features), features_df)\n",
    "    features_df = reduce(lambda _df, i: _df.withColumn('a{0}'.format(i), _df.dominant_frequencies_amplitudes[i]), range(frequency_features), features_df)\n",
    "        \n",
    "    features_df = features_df.drop('vibration', 'fft', 'dominant_frequencies', 'dominant_frequencies_amplitudes')\n",
    "    \n",
    "    if persist:\n",
    "        features_df.persist(StorageLevel.MEMORY_AND_DISK)\n",
    "\n",
    "    dependent_features = [c for c in features_df.columns if c not in ['machineID', 'timestamp', 'speed', 'ambient_pressure', 'ambient_temperature']]\n",
    "    features_df = reduce(lambda _df, f: _df.withColumn('{0}_n'.format(f), col(f) / col('speed')), dependent_features, features_df)\n",
    "    \n",
    "    return features_df"
   ]
  },
  {
   "cell_type": "code",
   "execution_count": 11,
   "metadata": {},
   "outputs": [
    {
     "data": {
      "text/plain": [
       "<matplotlib.figure.Figure at 0x7f837cb4b0b8>"
      ]
     },
     "metadata": {},
     "output_type": "display_data"
    }
   ],
   "source": [
    "%run $AZUREML_NATIVE_SHARE_DIRECTORY/featurization.py"
   ]
  },
  {
   "cell_type": "code",
   "execution_count": 12,
   "metadata": {},
   "outputs": [
    {
     "name": "stdout",
     "output_type": "stream",
     "text": [
      "root\n",
      " |-- machineID: string (nullable = true)\n",
      " |-- timestamp: timestamp (nullable = true)\n",
      " |-- ambient_temperature: double (nullable = true)\n",
      " |-- ambient_pressure: double (nullable = true)\n",
      " |-- speed: double (nullable = true)\n",
      " |-- temperature: double (nullable = true)\n",
      " |-- pressure: double (nullable = true)\n",
      " |-- f0: double (nullable = true)\n",
      " |-- f1: double (nullable = true)\n",
      " |-- f2: double (nullable = true)\n",
      " |-- a0: double (nullable = true)\n",
      " |-- a1: double (nullable = true)\n",
      " |-- a2: double (nullable = true)\n",
      " |-- temperature_n: double (nullable = true)\n",
      " |-- pressure_n: double (nullable = true)\n",
      " |-- f0_n: double (nullable = true)\n",
      " |-- f1_n: double (nullable = true)\n",
      " |-- f2_n: double (nullable = true)\n",
      " |-- a0_n: double (nullable = true)\n",
      " |-- a1_n: double (nullable = true)\n",
      " |-- a2_n: double (nullable = true)\n",
      "\n"
     ]
    }
   ],
   "source": [
    "features_df = featurize(telemetry_df, True)\n",
    "features_df.printSchema()"
   ]
  },
  {
   "cell_type": "markdown",
   "metadata": {},
   "source": [
    "### Label assignment"
   ]
  },
  {
   "cell_type": "code",
   "execution_count": 13,
   "metadata": {},
   "outputs": [
    {
     "data": {
      "text/html": [
       "<div>\n",
       "<style>\n",
       "    .dataframe thead tr:only-child th {\n",
       "        text-align: right;\n",
       "    }\n",
       "\n",
       "    .dataframe thead th {\n",
       "        text-align: left;\n",
       "    }\n",
       "\n",
       "    .dataframe tbody tr th {\n",
       "        vertical-align: top;\n",
       "    }\n",
       "</style>\n",
       "<table border=\"1\" class=\"dataframe\">\n",
       "  <thead>\n",
       "    <tr style=\"text-align: right;\">\n",
       "      <th></th>\n",
       "      <th>timestamp</th>\n",
       "      <th>level</th>\n",
       "      <th>machineID</th>\n",
       "      <th>code</th>\n",
       "      <th>message</th>\n",
       "    </tr>\n",
       "  </thead>\n",
       "  <tbody>\n",
       "    <tr>\n",
       "      <th>0</th>\n",
       "      <td>2018-04-22 23:25:01.580444</td>\n",
       "      <td>CRITICAL</td>\n",
       "      <td>MACHINE-008</td>\n",
       "      <td>F02</td>\n",
       "      <td>low pressure - cooling system malfunction</td>\n",
       "    </tr>\n",
       "    <tr>\n",
       "      <th>1</th>\n",
       "      <td>2018-04-22 23:39:01.329993</td>\n",
       "      <td>CRITICAL</td>\n",
       "      <td>MACHINE-009</td>\n",
       "      <td>F01</td>\n",
       "      <td>rotor imbalance - defective bearings</td>\n",
       "    </tr>\n",
       "  </tbody>\n",
       "</table>\n",
       "</div>"
      ],
      "text/plain": [
       "                   timestamp     level    machineID code  \\\n",
       "0 2018-04-22 23:25:01.580444  CRITICAL  MACHINE-008  F02   \n",
       "1 2018-04-22 23:39:01.329993  CRITICAL  MACHINE-009  F01   \n",
       "\n",
       "                                     message  \n",
       "0  low pressure - cooling system malfunction  \n",
       "1       rotor imbalance - defective bearings  "
      ]
     },
     "execution_count": 13,
     "metadata": {},
     "output_type": "execute_result"
    }
   ],
   "source": [
    "failures_df = logs_df.where(col('level') == 'CRITICAL')\n",
    "failures_df.toPandas().head()"
   ]
  },
  {
   "cell_type": "code",
   "execution_count": 14,
   "metadata": {},
   "outputs": [
    {
     "data": {
      "text/html": [
       "<div>\n",
       "<style>\n",
       "    .dataframe thead tr:only-child th {\n",
       "        text-align: right;\n",
       "    }\n",
       "\n",
       "    .dataframe thead th {\n",
       "        text-align: left;\n",
       "    }\n",
       "\n",
       "    .dataframe tbody tr th {\n",
       "        vertical-align: top;\n",
       "    }\n",
       "</style>\n",
       "<table border=\"1\" class=\"dataframe\">\n",
       "  <thead>\n",
       "    <tr style=\"text-align: right;\">\n",
       "      <th></th>\n",
       "      <th>machineID</th>\n",
       "      <th>onset_ts</th>\n",
       "      <th>detection_ts</th>\n",
       "      <th>failure</th>\n",
       "    </tr>\n",
       "  </thead>\n",
       "  <tbody>\n",
       "    <tr>\n",
       "      <th>0</th>\n",
       "      <td>MACHINE-008</td>\n",
       "      <td>2018-04-21 23:25:01.580444</td>\n",
       "      <td>2018-04-22 23:25:01.580444</td>\n",
       "      <td>F02</td>\n",
       "    </tr>\n",
       "    <tr>\n",
       "      <th>1</th>\n",
       "      <td>MACHINE-009</td>\n",
       "      <td>2018-04-21 23:39:01.329993</td>\n",
       "      <td>2018-04-22 23:39:01.329993</td>\n",
       "      <td>F01</td>\n",
       "    </tr>\n",
       "  </tbody>\n",
       "</table>\n",
       "</div>"
      ],
      "text/plain": [
       "     machineID                   onset_ts               detection_ts failure\n",
       "0  MACHINE-008 2018-04-21 23:25:01.580444 2018-04-22 23:25:01.580444     F02\n",
       "1  MACHINE-009 2018-04-21 23:39:01.329993 2018-04-22 23:39:01.329993     F01"
      ]
     },
     "execution_count": 14,
     "metadata": {},
     "output_type": "execute_result"
    }
   ],
   "source": [
    "failure_intervals_df = (failures_df.select(col('machineID'),\n",
    "                                           (col('timestamp') - expr(\"INTERVAL 1 DAYS\")).alias('onset_ts'),\n",
    "                                           col('timestamp').alias('detection_ts'),\n",
    "                                           col('code').alias('failure')))\n",
    "failure_intervals_df.toPandas().head()"
   ]
  },
  {
   "cell_type": "code",
   "execution_count": 15,
   "metadata": {},
   "outputs": [
    {
     "name": "stdout",
     "output_type": "stream",
     "text": [
      "root\n",
      " |-- machineID: string (nullable = true)\n",
      " |-- timestamp: timestamp (nullable = true)\n",
      " |-- ambient_temperature: double (nullable = true)\n",
      " |-- ambient_pressure: double (nullable = true)\n",
      " |-- speed: double (nullable = true)\n",
      " |-- temperature: double (nullable = true)\n",
      " |-- pressure: double (nullable = true)\n",
      " |-- f0: double (nullable = true)\n",
      " |-- f1: double (nullable = true)\n",
      " |-- f2: double (nullable = true)\n",
      " |-- a0: double (nullable = true)\n",
      " |-- a1: double (nullable = true)\n",
      " |-- a2: double (nullable = true)\n",
      " |-- temperature_n: double (nullable = true)\n",
      " |-- pressure_n: double (nullable = true)\n",
      " |-- f0_n: double (nullable = true)\n",
      " |-- f1_n: double (nullable = true)\n",
      " |-- f2_n: double (nullable = true)\n",
      " |-- a0_n: double (nullable = true)\n",
      " |-- a1_n: double (nullable = true)\n",
      " |-- a2_n: double (nullable = true)\n",
      " |-- failure: string (nullable = false)\n",
      "\n"
     ]
    }
   ],
   "source": [
    "labeled_features_df = (features_df.join(failure_intervals_df,\n",
    "                                       (features_df.machineID == failure_intervals_df.machineID) &\n",
    "                                       (features_df.timestamp >= failure_intervals_df.onset_ts) &\n",
    "                                       (features_df.timestamp <= failure_intervals_df.detection_ts),\n",
    "                                       'left_outer')\n",
    "                       .drop(failure_intervals_df.machineID)\n",
    "                       .drop(failure_intervals_df.onset_ts)\n",
    "                       .drop(failure_intervals_df.detection_ts)\n",
    "                       .fillna({'failure':'None'}))\n",
    "                                                          \n",
    "labeled_features_df.printSchema()"
   ]
  },
  {
   "cell_type": "markdown",
   "metadata": {},
   "source": [
    "### Persisting the labeled feature dataset\n",
    "\n",
    "Now, let's write the feature dataset into Azure storage. This step, depending on the size of the raw input data and available compute power, may take some time. Spark favors lazy evaluation, which means that all the transformations we have performed so far didn't actually take place. The code below will force Spark to evaluate the entire dataset."
   ]
  },
  {
   "cell_type": "code",
   "execution_count": 16,
   "metadata": {},
   "outputs": [
    {
     "data": {
      "text/html": [
       "<div>\n",
       "<style>\n",
       "    .dataframe thead tr:only-child th {\n",
       "        text-align: right;\n",
       "    }\n",
       "\n",
       "    .dataframe thead th {\n",
       "        text-align: left;\n",
       "    }\n",
       "\n",
       "    .dataframe tbody tr th {\n",
       "        vertical-align: top;\n",
       "    }\n",
       "</style>\n",
       "<table border=\"1\" class=\"dataframe\">\n",
       "  <thead>\n",
       "    <tr style=\"text-align: right;\">\n",
       "      <th></th>\n",
       "      <th>machineID</th>\n",
       "      <th>timestamp</th>\n",
       "      <th>ambient_temperature</th>\n",
       "      <th>ambient_pressure</th>\n",
       "      <th>speed</th>\n",
       "      <th>temperature</th>\n",
       "      <th>pressure</th>\n",
       "      <th>f0</th>\n",
       "      <th>f1</th>\n",
       "      <th>f2</th>\n",
       "      <th>...</th>\n",
       "      <th>a2</th>\n",
       "      <th>temperature_n</th>\n",
       "      <th>pressure_n</th>\n",
       "      <th>f0_n</th>\n",
       "      <th>f1_n</th>\n",
       "      <th>f2_n</th>\n",
       "      <th>a0_n</th>\n",
       "      <th>a1_n</th>\n",
       "      <th>a2_n</th>\n",
       "      <th>failure</th>\n",
       "    </tr>\n",
       "  </thead>\n",
       "  <tbody>\n",
       "    <tr>\n",
       "      <th>0</th>\n",
       "      <td>MACHINE-003</td>\n",
       "      <td>2018-04-22 11:55:10.893</td>\n",
       "      <td>20.0</td>\n",
       "      <td>101.0</td>\n",
       "      <td>1182.50</td>\n",
       "      <td>36.52</td>\n",
       "      <td>2532.72</td>\n",
       "      <td>41.0</td>\n",
       "      <td>42.0</td>\n",
       "      <td>21.0</td>\n",
       "      <td>...</td>\n",
       "      <td>640.926509</td>\n",
       "      <td>0.030884</td>\n",
       "      <td>2.141835</td>\n",
       "      <td>0.034672</td>\n",
       "      <td>0.035518</td>\n",
       "      <td>0.017759</td>\n",
       "      <td>0.597216</td>\n",
       "      <td>0.561192</td>\n",
       "      <td>0.542010</td>\n",
       "      <td>None</td>\n",
       "    </tr>\n",
       "    <tr>\n",
       "      <th>1</th>\n",
       "      <td>MACHINE-008</td>\n",
       "      <td>2018-04-22 11:55:11.268</td>\n",
       "      <td>20.0</td>\n",
       "      <td>101.0</td>\n",
       "      <td>790.93</td>\n",
       "      <td>69.35</td>\n",
       "      <td>1660.08</td>\n",
       "      <td>28.0</td>\n",
       "      <td>14.0</td>\n",
       "      <td>57.0</td>\n",
       "      <td>...</td>\n",
       "      <td>742.430154</td>\n",
       "      <td>0.087682</td>\n",
       "      <td>2.098896</td>\n",
       "      <td>0.035401</td>\n",
       "      <td>0.017701</td>\n",
       "      <td>0.072067</td>\n",
       "      <td>1.228768</td>\n",
       "      <td>0.964377</td>\n",
       "      <td>0.938680</td>\n",
       "      <td>F02</td>\n",
       "    </tr>\n",
       "    <tr>\n",
       "      <th>2</th>\n",
       "      <td>MACHINE-003</td>\n",
       "      <td>2018-04-22 11:55:11.409</td>\n",
       "      <td>20.0</td>\n",
       "      <td>101.0</td>\n",
       "      <td>765.23</td>\n",
       "      <td>68.58</td>\n",
       "      <td>2033.57</td>\n",
       "      <td>27.0</td>\n",
       "      <td>53.0</td>\n",
       "      <td>54.0</td>\n",
       "      <td>...</td>\n",
       "      <td>705.341621</td>\n",
       "      <td>0.089620</td>\n",
       "      <td>2.657462</td>\n",
       "      <td>0.035284</td>\n",
       "      <td>0.069260</td>\n",
       "      <td>0.070567</td>\n",
       "      <td>1.250674</td>\n",
       "      <td>0.956572</td>\n",
       "      <td>0.921738</td>\n",
       "      <td>None</td>\n",
       "    </tr>\n",
       "    <tr>\n",
       "      <th>3</th>\n",
       "      <td>MACHINE-009</td>\n",
       "      <td>2018-04-22 11:55:11.456</td>\n",
       "      <td>20.0</td>\n",
       "      <td>101.0</td>\n",
       "      <td>1029.32</td>\n",
       "      <td>66.92</td>\n",
       "      <td>2419.77</td>\n",
       "      <td>36.0</td>\n",
       "      <td>37.0</td>\n",
       "      <td>35.0</td>\n",
       "      <td>...</td>\n",
       "      <td>5187.308005</td>\n",
       "      <td>0.065014</td>\n",
       "      <td>2.350843</td>\n",
       "      <td>0.034975</td>\n",
       "      <td>0.035946</td>\n",
       "      <td>0.034003</td>\n",
       "      <td>6.383699</td>\n",
       "      <td>5.847304</td>\n",
       "      <td>5.039548</td>\n",
       "      <td>F01</td>\n",
       "    </tr>\n",
       "    <tr>\n",
       "      <th>4</th>\n",
       "      <td>MACHINE-001</td>\n",
       "      <td>2018-04-22 11:55:11.471</td>\n",
       "      <td>20.0</td>\n",
       "      <td>101.0</td>\n",
       "      <td>756.15</td>\n",
       "      <td>67.75</td>\n",
       "      <td>1864.12</td>\n",
       "      <td>26.0</td>\n",
       "      <td>155.0</td>\n",
       "      <td>153.0</td>\n",
       "      <td>...</td>\n",
       "      <td>964.530241</td>\n",
       "      <td>0.089599</td>\n",
       "      <td>2.465278</td>\n",
       "      <td>0.034385</td>\n",
       "      <td>0.204986</td>\n",
       "      <td>0.202341</td>\n",
       "      <td>1.477247</td>\n",
       "      <td>1.282516</td>\n",
       "      <td>1.275581</td>\n",
       "      <td>None</td>\n",
       "    </tr>\n",
       "  </tbody>\n",
       "</table>\n",
       "<p>5 rows × 22 columns</p>\n",
       "</div>"
      ],
      "text/plain": [
       "     machineID               timestamp  ambient_temperature  ambient_pressure  \\\n",
       "0  MACHINE-003 2018-04-22 11:55:10.893                 20.0             101.0   \n",
       "1  MACHINE-008 2018-04-22 11:55:11.268                 20.0             101.0   \n",
       "2  MACHINE-003 2018-04-22 11:55:11.409                 20.0             101.0   \n",
       "3  MACHINE-009 2018-04-22 11:55:11.456                 20.0             101.0   \n",
       "4  MACHINE-001 2018-04-22 11:55:11.471                 20.0             101.0   \n",
       "\n",
       "     speed  temperature  pressure    f0     f1     f2   ...              a2  \\\n",
       "0  1182.50        36.52   2532.72  41.0   42.0   21.0   ...      640.926509   \n",
       "1   790.93        69.35   1660.08  28.0   14.0   57.0   ...      742.430154   \n",
       "2   765.23        68.58   2033.57  27.0   53.0   54.0   ...      705.341621   \n",
       "3  1029.32        66.92   2419.77  36.0   37.0   35.0   ...     5187.308005   \n",
       "4   756.15        67.75   1864.12  26.0  155.0  153.0   ...      964.530241   \n",
       "\n",
       "   temperature_n  pressure_n      f0_n      f1_n      f2_n      a0_n  \\\n",
       "0       0.030884    2.141835  0.034672  0.035518  0.017759  0.597216   \n",
       "1       0.087682    2.098896  0.035401  0.017701  0.072067  1.228768   \n",
       "2       0.089620    2.657462  0.035284  0.069260  0.070567  1.250674   \n",
       "3       0.065014    2.350843  0.034975  0.035946  0.034003  6.383699   \n",
       "4       0.089599    2.465278  0.034385  0.204986  0.202341  1.477247   \n",
       "\n",
       "       a1_n      a2_n  failure  \n",
       "0  0.561192  0.542010     None  \n",
       "1  0.964377  0.938680      F02  \n",
       "2  0.956572  0.921738     None  \n",
       "3  5.847304  5.039548      F01  \n",
       "4  1.282516  1.275581     None  \n",
       "\n",
       "[5 rows x 22 columns]"
      ]
     },
     "execution_count": 16,
     "metadata": {},
     "output_type": "execute_result"
    }
   ],
   "source": [
    "wasbUrlOutput = \"wasb://{0}@{1}.blob.{2}/features.parquet\".format(\n",
    "            'intermediate',\n",
    "            STAGING_STORAGE_ACCOUNT_NAME,\n",
    "            STORAGE_ACCOUNT_SUFFIX)\n",
    "\n",
    "labeled_features_df.write.parquet(wasbUrlOutput, mode=\"overwrite\")\n",
    "\n",
    "labeled_features_df.limit(5).toPandas().head()"
   ]
  },
  {
   "cell_type": "markdown",
   "metadata": {},
   "source": [
    "## References\n",
    "<a name=\"ref_1\"></a>1.  [Big Data: Week 3 Video 3 - Feature Engineering](https://www.youtube.com/watch?v=drUToKxEAUA). youtube.com.\n",
    "\n",
    "<a name=\"ref_2\"></a>2.  [Save IoT hub messages that contain sensor data to your Azure blob storage](https://docs.microsoft.com/en-us/azure/iot-hub/iot-hub-store-data-in-azure-table-storage)\n",
    "\n",
    "<a name=\"ref_3\"></a>3.  [Azure Event Hubs Capture](https://docs.microsoft.com/en-us/azure/event-hubs/event-hubs-capture-overview)\n",
    "\n",
    "<a name=\"ref_4\"></a>4.  [Log-based Predictive Maintenance](https://astro.temple.edu/~tua63862/indg0371-sipos.pdf)\n",
    "\n",
    "<a name=\"ref_5\"></a>5.  [Digital Signal Processing Using MATLAB for Students and Researchers](https://books.google.com/books?id=Qtd-e1NtZVkC&pg=PA82#v=onepage&q&f=false). John Wiley & Sons. p. 82. ISBN 9781118033807. \"The Nyquist rate is twice the bandwidth of the signal ... The Nyquist frequency or folding frequency is half the sampling rate and corresponds to the highest frequency which a sampled data system can reproduce without error.\""
   ]
  }
 ],
 "metadata": {
  "kernelspec": {
   "display_name": "PySpark",
   "language": "python",
   "name": "pyspark"
  },
  "language_info": {
   "codemirror_mode": {
    "name": "ipython",
    "version": 3
   },
   "file_extension": ".py",
   "mimetype": "text/x-python",
   "name": "python",
   "nbconvert_exporter": "python",
   "pygments_lexer": "ipython3",
   "version": "3.6.2"
  }
 },
 "nbformat": 4,
 "nbformat_minor": 2
}
