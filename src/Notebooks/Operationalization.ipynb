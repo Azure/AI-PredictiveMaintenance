{
 "cells": [
  {
   "cell_type": "code",
   "execution_count": 1,
   "metadata": {},
   "outputs": [
    {
     "name": "stdout",
     "output_type": "stream",
     "text": [
      "SDK Version: 0.1.0.995245\n"
     ]
    }
   ],
   "source": [
    "# Check core SDK version number for debugging purposes\n",
    "import azureml.core\n",
    "print(\"SDK Version:\", azureml.core.VERSION)"
   ]
  },
  {
   "cell_type": "code",
   "execution_count": 2,
   "metadata": {},
   "outputs": [],
   "source": [
    "subscription_id = \"786d6510-8f1e-4ae7-b55b-5178716e6ac8\"\n",
    "resource_group = \"test-anivan\"\n",
    "workspace_name = \"workspace-test1\"\n",
    "workspace_region = 'eastus2' # or eastus2euap"
   ]
  },
  {
   "cell_type": "code",
   "execution_count": 3,
   "metadata": {},
   "outputs": [
    {
     "data": {
      "text/plain": [
       "{'applicationInsights': '/subscriptions/786d6510-8f1e-4ae7-b55b-5178716e6ac8/resourcegroups/test-anivan/providers/microsoft.insights/components/workspacinsightslksuficz',\n",
       " 'containerRegistry': '/subscriptions/786d6510-8f1e-4ae7-b55b-5178716e6ac8/resourcegroups/test-anivan/providers/microsoft.containerregistry/registries/workspacacrezbodeet',\n",
       " 'description': '',\n",
       " 'friendlyName': 'workspace-test1',\n",
       " 'id': '/subscriptions/786d6510-8f1e-4ae7-b55b-5178716e6ac8/resourceGroups/test-anivan/providers/Microsoft.MachineLearningServices/workspaces/workspace-test1',\n",
       " 'identityPrincipalId': '2059178a-03cf-4cc9-ad26-a5d8ba8ee61b',\n",
       " 'identityTenantId': '72f988bf-86f1-41af-91ab-2d7cd011db47',\n",
       " 'identityType': 'SystemAssigned',\n",
       " 'keyVault': '/subscriptions/786d6510-8f1e-4ae7-b55b-5178716e6ac8/resourcegroups/test-anivan/providers/microsoft.keyvault/vaults/workspackeyvaultqkjjihff',\n",
       " 'location': 'eastus2',\n",
       " 'name': 'workspace-test1',\n",
       " 'storageAccount': '/subscriptions/786d6510-8f1e-4ae7-b55b-5178716e6ac8/resourcegroups/test-anivan/providers/microsoft.storage/storageaccounts/workspacstorageoeetceun',\n",
       " 'type': 'Microsoft.MachineLearningServices/workspaces'}"
      ]
     },
     "execution_count": 3,
     "metadata": {},
     "output_type": "execute_result"
    }
   ],
   "source": [
    "# import the Workspace class and check the azureml SDK version# impor \n",
    "from azureml.core.workspace import Workspace, WorkspaceException\n",
    "\n",
    "ws = Workspace.create(name = workspace_name,\n",
    "                      subscription_id = subscription_id,\n",
    "                      resource_group = resource_group, \n",
    "                      location = workspace_region)\n",
    "ws.get_details()"
   ]
  },
  {
   "cell_type": "code",
   "execution_count": 42,
   "metadata": {},
   "outputs": [
    {
     "name": "stderr",
     "output_type": "stream",
     "text": [
      "Client-Request-ID=af9b4c82-695b-11e8-a4fb-80ee7383b886 Retry policy did not allow for a retry: Server-Timestamp=Wed, 06 Jun 2018 07:31:54 GMT, Server-Request-ID=5f2f6354-101e-00ac-4368-fda0cd000000, HTTP status code=409, Exception=The specified container already exists.ErrorCode: ContainerAlreadyExists<?xml version=\"1.0\" encoding=\"utf-8\"?><Error><Code>ContainerAlreadyExists</Code><Message>The specified container already exists.RequestId:5f2f6354-101e-00ac-4368-fda0cd000000Time:2018-06-06T07:31:54.8463753Z</Message></Error>.\n"
     ]
    },
    {
     "name": "stdout",
     "output_type": "stream",
     "text": [
      "Registering model: pdm-multi-class\n"
     ]
    }
   ],
   "source": [
    "model = ws.register_model(model_path = \"model.pkl\",\n",
    "                          model_name = \"pdm-multi-class\",\n",
    "                          tags = [\"pdm\"],\n",
    "                          description = \"Predictive Maintenance multi-class classifier\")"
   ]
  },
  {
   "cell_type": "code",
   "execution_count": 36,
   "metadata": {},
   "outputs": [
    {
     "name": "stdout",
     "output_type": "stream",
     "text": [
      "Overwriting score.py\n"
     ]
    }
   ],
   "source": [
    "%%writefile score.py\n",
    "\n",
    "import json\n",
    "from sklearn.externals import joblib\n",
    "import pandas as pd\n",
    "\n",
    "def init():\n",
    "    global model\n",
    "    model = joblib.load(\"model.pkl\")\n",
    "\n",
    "def run(rawdata):\n",
    "    try:\n",
    "        data = json.loads(rawdata)\n",
    "        df = pd.DataFrame(data=data)\n",
    "        result = model.predict(df).tolist()\n",
    "    except Exception as e:\n",
    "        result = str(e)\n",
    "    return result"
   ]
  },
  {
   "cell_type": "code",
   "execution_count": 10,
   "metadata": {},
   "outputs": [
    {
     "data": {
      "text/plain": [
       "<module 'score' from '/home/andrew/work/AI-PredictiveMaintenance/src/AML/Notebooks/score.py'>"
      ]
     },
     "execution_count": 10,
     "metadata": {},
     "output_type": "execute_result"
    }
   ],
   "source": [
    "# this forces IPython to load the latest version\n",
    "# of the score module\n",
    "\n",
    "import importlib\n",
    "# https://docs.python.org/3/library/importlib.html#importlib.invalidate_caches\n",
    "importlib.invalidate_caches()\n",
    "import score\n",
    "importlib.reload(score)"
   ]
  },
  {
   "cell_type": "code",
   "execution_count": 11,
   "metadata": {},
   "outputs": [],
   "source": [
    "score.init()"
   ]
  },
  {
   "cell_type": "code",
   "execution_count": 12,
   "metadata": {},
   "outputs": [
    {
     "data": {
      "text/plain": [
       "['', '', '', '', '']"
      ]
     },
     "execution_count": 12,
     "metadata": {},
     "output_type": "execute_result"
    }
   ],
   "source": [
    "with open('sample.json', 'r') as sample_file:\n",
    "  sample_json = sample_file.read()\n",
    "\n",
    "score.run(sample_json)"
   ]
  },
  {
   "cell_type": "code",
   "execution_count": 40,
   "metadata": {},
   "outputs": [
    {
     "name": "stdout",
     "output_type": "stream",
     "text": [
      "Writing env.yml\n"
     ]
    }
   ],
   "source": [
    "%%writefile env.yml\n",
    "\n",
    "name: pdm\n",
    "channels:\n",
    "  - defaults\n",
    "dependencies:\n",
    "  - pip:\n",
    "    - pandas==0.22.0"
   ]
  },
  {
   "cell_type": "code",
   "execution_count": 43,
   "metadata": {},
   "outputs": [
    {
     "name": "stderr",
     "output_type": "stream",
     "text": [
      "Client-Request-ID=d04932a0-695b-11e8-a4fb-80ee7383b886 Retry policy did not allow for a retry: Server-Timestamp=Wed, 06 Jun 2018 07:32:48 GMT, Server-Request-ID=b7060a9c-101e-00ca-5f68-fd1297000000, HTTP status code=409, Exception=The specified container already exists.ErrorCode: ContainerAlreadyExists<?xml version=\"1.0\" encoding=\"utf-8\"?><Error><Code>ContainerAlreadyExists</Code><Message>The specified container already exists.RequestId:b7060a9c-101e-00ca-5f68-fd1297000000Time:2018-06-06T07:32:49.5834223Z</Message></Error>.\n",
      "Client-Request-ID=d04932a2-695b-11e8-a4fb-80ee7383b886 Retry policy did not allow for a retry: Server-Timestamp=Wed, 06 Jun 2018 07:32:49 GMT, Server-Request-ID=5058cf17-901e-0058-6c68-fd8521000000, HTTP status code=409, Exception=The specified container already exists.ErrorCode: ContainerAlreadyExists<?xml version=\"1.0\" encoding=\"utf-8\"?><Error><Code>ContainerAlreadyExists</Code><Message>The specified container already exists.RequestId:5058cf17-901e-0058-6c68-fd8521000000Time:2018-06-06T07:32:50.0982263Z</Message></Error>.\n",
      "Client-Request-ID=d04932a4-695b-11e8-a4fb-80ee7383b886 Retry policy did not allow for a retry: Server-Timestamp=Wed, 06 Jun 2018 07:32:50 GMT, Server-Request-ID=aaf75862-b01e-0083-0468-fd21f7000000, HTTP status code=409, Exception=The specified container already exists.ErrorCode: ContainerAlreadyExists<?xml version=\"1.0\" encoding=\"utf-8\"?><Error><Code>ContainerAlreadyExists</Code><Message>The specified container already exists.RequestId:aaf75862-b01e-0083-0468-fd21f7000000Time:2018-06-06T07:32:50.6251417Z</Message></Error>.\n",
      "Client-Request-ID=d04932a6-695b-11e8-a4fb-80ee7383b886 Retry policy did not allow for a retry: Server-Timestamp=Wed, 06 Jun 2018 07:32:50 GMT, Server-Request-ID=a910a1d5-201e-000e-4568-fd6d51000000, HTTP status code=409, Exception=The specified container already exists.ErrorCode: ContainerAlreadyExists<?xml version=\"1.0\" encoding=\"utf-8\"?><Error><Code>ContainerAlreadyExists</Code><Message>The specified container already exists.RequestId:a910a1d5-201e-000e-4568-fd6d51000000Time:2018-06-06T07:32:51.1592516Z</Message></Error>.\n"
     ]
    },
    {
     "name": "stdout",
     "output_type": "stream",
     "text": [
      "Creating image\n"
     ]
    }
   ],
   "source": [
    "image = ws.create_image(name = \"pdm-multi-class-image\",\n",
    "                        models = [model],\n",
    "                        runtime = \"python\",\n",
    "                        driver_file = \"score.py\",\n",
    "                        conda_file = \"env.yml\",\n",
    "                        tags = [\"pdm\"],\n",
    "                        description = \"Image for Predicitve Maintenance multi-class classifier\")"
   ]
  },
  {
   "cell_type": "code",
   "execution_count": 44,
   "metadata": {},
   "outputs": [
    {
     "name": "stdout",
     "output_type": "stream",
     "text": [
      "Image creation operation finished for image pdm-multi-class-image:1, operation \"Succeeded\"\n"
     ]
    }
   ],
   "source": [
    "image.wait_for_creation(show_output = True)"
   ]
  },
  {
   "cell_type": "code",
   "execution_count": 4,
   "metadata": {},
   "outputs": [],
   "source": [
    "from azureml.core.webservice import AciWebservice\n",
    "\n",
    "aciconfig = AciWebservice.deploy_configuration(cpu_cores = 1, \n",
    "                                               memory_gb = 1, \n",
    "                                               tags = ['pdm'], \n",
    "                                               description = 'Predicting equipment failure')"
   ]
  },
  {
   "cell_type": "code",
   "execution_count": 6,
   "metadata": {},
   "outputs": [],
   "source": [
    "image = ws.get_image(name = \"pdm-multi-class-image\")"
   ]
  },
  {
   "cell_type": "code",
   "execution_count": 8,
   "metadata": {},
   "outputs": [
    {
     "name": "stdout",
     "output_type": "stream",
     "text": [
      "Creating service\n",
      "Running...............................................\n",
      "SucceededACI service creation operation finished, operation \"Succeeded\"\n"
     ]
    }
   ],
   "source": [
    "service = ws.deploy_webservice(name = 'pdm1',\n",
    "                               deploy_config = aciconfig,\n",
    "                               target = None,\n",
    "                               image = image)\n",
    "service.wait_for_deployment(show_output = True)"
   ]
  },
  {
   "cell_type": "code",
   "execution_count": 13,
   "metadata": {},
   "outputs": [
    {
     "name": "stdout",
     "output_type": "stream",
     "text": [
      "['', '', '', '', '']\n"
     ]
    }
   ],
   "source": [
    "service = ws.get_webservice(name = 'pdm1')\n",
    "predictions = service.run(input_data = sample_json)\n",
    "print(predictions)"
   ]
  },
  {
   "cell_type": "code",
   "execution_count": 15,
   "metadata": {},
   "outputs": [
    {
     "data": {
      "text/plain": [
       "{'_auth': <azureml.core.authentication.InteractiveLoginAuthentication at 0x7f9799d67470>,\n",
       " '_mms_endpoint': 'https://eastus2.modelmanagement.azureml.net/api/subscriptions/786d6510-8f1e-4ae7-b55b-5178716e6ac8/resourceGroups/test-anivan/providers/Microsoft.MachineLearningServices/workspaces/workspace-test1/services',\n",
       " '_operation_endpoint': None,\n",
       " 'compute_type': 'ACI',\n",
       " 'container_resource_requirements': <azureml.core.webservice.aci.ContainerResourceRequirements at 0x7f978f1f86a0>,\n",
       " 'created_time': datetime.datetime(2018, 6, 6, 7, 44, 51, 850528, tzinfo=tzutc()),\n",
       " 'description': 'Predicting equipment failure',\n",
       " 'error': None,\n",
       " 'image_id': 'pdm-multi-class-image:1',\n",
       " 'name': 'pdm1',\n",
       " 'scoring_uri': 'http://40.114.125.83:5001/score',\n",
       " 'state': None,\n",
       " 'tags': ['pdm'],\n",
       " 'updated_time': datetime.datetime(2018, 6, 6, 7, 44, 59, 8069, tzinfo=tzutc()),\n",
       " 'webservice_id': 'pdm1',\n",
       " 'workspace': <azureml.core.workspace.Workspace at 0x7f9799ac3278>}"
      ]
     },
     "execution_count": 15,
     "metadata": {},
     "output_type": "execute_result"
    }
   ],
   "source": [
    "vars(service)"
   ]
  }
 ],
 "metadata": {
  "kernelspec": {
   "display_name": "Python 3",
   "language": "python",
   "name": "python3"
  },
  "language_info": {
   "codemirror_mode": {
    "name": "ipython",
    "version": 3
   },
   "file_extension": ".py",
   "mimetype": "text/x-python",
   "name": "python",
   "nbconvert_exporter": "python",
   "pygments_lexer": "ipython3",
   "version": "3.6.4"
  }
 },
 "nbformat": 4,
 "nbformat_minor": 2
}
