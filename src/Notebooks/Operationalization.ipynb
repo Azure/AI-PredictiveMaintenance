{
 "cells": [
  {
   "cell_type": "code",
   "execution_count": 1,
   "metadata": {},
   "outputs": [
    {
     "name": "stdout",
     "output_type": "stream",
     "text": [
      "SDK Version: 0.1.0.1091601\n"
     ]
    }
   ],
   "source": [
    "# Check core SDK version number for debugging purposes\n",
    "import azureml.core\n",
    "from azureml.core.model import Model\n",
    "from azureml.core.image import Image\n",
    "from azureml.core.webservice import Webservice\n",
    "print(\"SDK Version:\", azureml.core.VERSION)"
   ]
  },
  {
   "cell_type": "code",
   "execution_count": 2,
   "metadata": {},
   "outputs": [],
   "source": [
    "subscription_id = \"786d6510-8f1e-4ae7-b55b-5178716e6ac8\"\n",
    "resource_group = \"test-anivan\"\n",
    "workspace_name = \"workspace-test1\"\n",
    "workspace_region = 'eastus2' # or eastus2euap"
   ]
  },
  {
   "cell_type": "code",
   "execution_count": 4,
   "metadata": {},
   "outputs": [
    {
     "data": {
      "text/plain": [
       "{'applicationInsights': '/subscriptions/786d6510-8f1e-4ae7-b55b-5178716e6ac8/resourcegroups/test-anivan/providers/microsoft.insights/components/workspacinsightslksuficz',\n",
       " 'containerRegistry': '/subscriptions/786d6510-8f1e-4ae7-b55b-5178716e6ac8/resourcegroups/test-anivan/providers/microsoft.containerregistry/registries/workspacacrezbodeet',\n",
       " 'description': '',\n",
       " 'friendlyName': 'workspace-test1',\n",
       " 'id': '/subscriptions/786d6510-8f1e-4ae7-b55b-5178716e6ac8/resourceGroups/test-anivan/providers/Microsoft.MachineLearningServices/workspaces/workspace-test1',\n",
       " 'identityPrincipalId': '2059178a-03cf-4cc9-ad26-a5d8ba8ee61b',\n",
       " 'identityTenantId': '72f988bf-86f1-41af-91ab-2d7cd011db47',\n",
       " 'identityType': 'SystemAssigned',\n",
       " 'keyVault': '/subscriptions/786d6510-8f1e-4ae7-b55b-5178716e6ac8/resourcegroups/test-anivan/providers/microsoft.keyvault/vaults/workspackeyvaultqkjjihff',\n",
       " 'location': 'eastus2',\n",
       " 'name': 'workspace-test1',\n",
       " 'storageAccount': '/subscriptions/786d6510-8f1e-4ae7-b55b-5178716e6ac8/resourcegroups/test-anivan/providers/microsoft.storage/storageaccounts/workspacstorageoeetceun',\n",
       " 'type': 'Microsoft.MachineLearningServices/workspaces'}"
      ]
     },
     "execution_count": 4,
     "metadata": {},
     "output_type": "execute_result"
    }
   ],
   "source": [
    "# import the Workspace class and check the azureml SDK version# impor \n",
    "from azureml.core.workspace import Workspace, WorkspaceException\n",
    "\n",
    "ws = Workspace.create(name = workspace_name,\n",
    "                      subscription_id = subscription_id,\n",
    "                      resource_group = resource_group, \n",
    "                      location = workspace_region)\n",
    "ws.get_details()"
   ]
  },
  {
   "cell_type": "code",
   "execution_count": 6,
   "metadata": {},
   "outputs": [
    {
     "name": "stdout",
     "output_type": "stream",
     "text": [
      "Registering model model.pkl\n"
     ]
    }
   ],
   "source": [
    "model = Model.register(model_path = \"model.pkl\",\n",
    "                          model_name = \"model.pkl\",\n",
    "                          tags = [\"pdm\"],\n",
    "                          description = \"Predictive Maintenance multi-class classifier\",\n",
    "                          workspace = ws)"
   ]
  },
  {
   "cell_type": "code",
   "execution_count": 10,
   "metadata": {},
   "outputs": [
    {
     "name": "stdout",
     "output_type": "stream",
     "text": [
      "Overwriting score.py\n"
     ]
    }
   ],
   "source": [
    "%%writefile score.py\n",
    "\n",
    "import json\n",
    "from sklearn.externals import joblib\n",
    "import pandas as pd\n",
    "from azureml.core.model import Model\n",
    "\n",
    "def init():\n",
    "    global model\n",
    "    model_path = Model.get_model_path('model.pkl')\n",
    "    model = joblib.load(model_path)\n",
    "\n",
    "def run(rawdata):\n",
    "    try:\n",
    "        data = json.loads(rawdata)\n",
    "        df = pd.DataFrame(data=data)\n",
    "        result = model.predict(df).tolist()\n",
    "    except Exception as e:\n",
    "        result = str(e)\n",
    "    return result"
   ]
  },
  {
   "cell_type": "code",
   "execution_count": 11,
   "metadata": {},
   "outputs": [
    {
     "data": {
      "text/plain": [
       "<module 'score' from '/home/laks/notebooks/score.py'>"
      ]
     },
     "execution_count": 11,
     "metadata": {},
     "output_type": "execute_result"
    }
   ],
   "source": [
    "# this forces IPython to load the latest version\n",
    "# of the score module\n",
    "\n",
    "import importlib\n",
    "# https://docs.python.org/3/library/importlib.html#importlib.invalidate_caches\n",
    "importlib.invalidate_caches()\n",
    "import score\n",
    "importlib.reload(score)"
   ]
  },
  {
   "cell_type": "code",
   "execution_count": 12,
   "metadata": {},
   "outputs": [],
   "source": [
    "score.init()"
   ]
  },
  {
   "cell_type": "code",
   "execution_count": 13,
   "metadata": {},
   "outputs": [
    {
     "data": {
      "text/plain": [
       "['', '', 'F1', '', '']"
      ]
     },
     "execution_count": 13,
     "metadata": {},
     "output_type": "execute_result"
    }
   ],
   "source": [
    "with open('sample.json', 'r') as sample_file:\n",
    "  sample_json = sample_file.read()\n",
    "\n",
    "score.run(sample_json)"
   ]
  },
  {
   "cell_type": "code",
   "execution_count": 14,
   "metadata": {},
   "outputs": [
    {
     "name": "stdout",
     "output_type": "stream",
     "text": [
      "Writing env.yml\n"
     ]
    }
   ],
   "source": [
    "%%writefile env.yml\n",
    "\n",
    "name: pdm\n",
    "channels:\n",
    "  - defaults\n",
    "dependencies:\n",
    "  - pip:\n",
    "    - numpy\n",
    "    - scikit-learn\n",
    "    # Required packages for AzureML execution, history, and data preparation.\n",
    "    - --extra-index-url https://azuremlsdktestpypi.azureedge.net/sdk-release/Preview/E7501C02541B433786111FE8E140CAA1\n",
    "    - azureml-core"
   ]
  },
  {
   "cell_type": "code",
   "execution_count": 15,
   "metadata": {},
   "outputs": [
    {
     "name": "stdout",
     "output_type": "stream",
     "text": [
      "Creating image\n"
     ]
    }
   ],
   "source": [
    "image = Image.create(name = \"pdm-multi-class-image\",\n",
    "                        models = [model],\n",
    "                        runtime = \"python\",\n",
    "                        execution_script = \"score.py\",\n",
    "                        conda_file = \"env.yml\",\n",
    "                        tags = [\"pdm\"],\n",
    "                        description = \"Image for Predicitve Maintenance multi-class classifier\",\n",
    "                        workspace = ws)"
   ]
  },
  {
   "cell_type": "code",
   "execution_count": 16,
   "metadata": {},
   "outputs": [
    {
     "name": "stdout",
     "output_type": "stream",
     "text": [
      "Running..................\n",
      "SucceededImage creation operation finished for image pdm-multi-class-image:11, operation \"Succeeded\"\n"
     ]
    }
   ],
   "source": [
    "image.wait_for_creation(show_output = True)"
   ]
  },
  {
   "cell_type": "code",
   "execution_count": 17,
   "metadata": {},
   "outputs": [],
   "source": [
    "from azureml.core.webservice import AciWebservice\n",
    "\n",
    "aciconfig = AciWebservice.deploy_configuration(cpu_cores = 1, \n",
    "                                               memory_gb = 1, \n",
    "                                               tags = ['pdm'], \n",
    "                                               description = 'Predicting equipment failure')"
   ]
  },
  {
   "cell_type": "code",
   "execution_count": 20,
   "metadata": {},
   "outputs": [
    {
     "name": "stdout",
     "output_type": "stream",
     "text": [
      "Creating service\n",
      "Running....................................................................\n",
      "SucceededACI service creation operation finished, operation \"Succeeded\"\n"
     ]
    }
   ],
   "source": [
    "service = Webservice.deploy_from_image(name  = 'pdm16',\n",
    "                               deployment_config = aciconfig,\n",
    "                               image = image,\n",
    "                                workspace = ws)\n",
    "service.wait_for_deployment(show_output = True)"
   ]
  },
  {
   "cell_type": "code",
   "execution_count": 21,
   "metadata": {},
   "outputs": [
    {
     "name": "stdout",
     "output_type": "stream",
     "text": [
      "['', '', 'F1', '', '']\n"
     ]
    }
   ],
   "source": [
    "predictions = service.run(input_data = sample_json)\n",
    "print(predictions)"
   ]
  },
  {
   "cell_type": "code",
   "execution_count": 22,
   "metadata": {},
   "outputs": [
    {
     "data": {
      "text/plain": [
       "{'_auth': <azureml.core.authentication.InteractiveLoginAuthentication at 0x7fb786320c50>,\n",
       " '_mms_endpoint': 'https://eastus2.modelmanagement.azureml.net/api/subscriptions/786d6510-8f1e-4ae7-b55b-5178716e6ac8/resourceGroups/test-anivan/providers/Microsoft.MachineLearningServices/workspaces/workspace-test1/services/pdm16',\n",
       " '_operation_endpoint': 'https://eastus2.modelmanagement.azureml.net/api/subscriptions/786d6510-8f1e-4ae7-b55b-5178716e6ac8/resourceGroups/test-anivan/providers/Microsoft.MachineLearningServices/workspaces/workspace-test1/operations/32a37b7f-81f9-498e-ab8b-bef647666c97',\n",
       " 'compute_type': 'ACI',\n",
       " 'container_resource_requirements': <azureml.core.webservice.aci.ContainerResourceRequirements at 0x7fb7327f2048>,\n",
       " 'created_time': datetime.datetime(2018, 6, 27, 4, 51, 19, 548660, tzinfo=tzlocal()),\n",
       " 'description': 'Predicting equipment failure',\n",
       " 'error': None,\n",
       " 'image_id': 'pdm-multi-class-image:11',\n",
       " 'name': 'pdm16',\n",
       " 'scoring_uri': 'http://23.100.25.248:5001/score',\n",
       " 'state': 'Healthy',\n",
       " 'tags': ['pdm'],\n",
       " 'updated_time': datetime.datetime(2018, 6, 27, 4, 51, 37, 530045, tzinfo=tzlocal()),\n",
       " 'workspace': <azureml.core.workspace.Workspace at 0x7fb7863a3358>}"
      ]
     },
     "execution_count": 22,
     "metadata": {},
     "output_type": "execute_result"
    }
   ],
   "source": [
    "vars(service)"
   ]
  },
  {
   "cell_type": "code",
   "execution_count": null,
   "metadata": {},
   "outputs": [],
   "source": []
  }
 ],
 "metadata": {
  "kernelspec": {
   "display_name": "Python 3",
   "language": "python",
   "name": "python3"
  },
  "language_info": {
   "codemirror_mode": {
    "name": "ipython",
    "version": 3
   },
   "file_extension": ".py",
   "mimetype": "text/x-python",
   "name": "python",
   "nbconvert_exporter": "python",
   "pygments_lexer": "ipython3",
   "version": "3.5.4"
  }
 },
 "nbformat": 4,
 "nbformat_minor": 2
}
