{
 "cells": [
  {
   "cell_type": "markdown",
   "metadata": {},
   "source": [
    "# Model Training\n",
    "\n",
    "In this notebooks, we formulate a multi-class classification problem as follows:\n",
    "\n",
    "> Is a machine going to need maintenance within the next N cycles, and if yes, due to what type of a failure?\n",
    "\n",
    "First, we define the future horizon:"
   ]
  },
  {
   "cell_type": "code",
   "execution_count": 1,
   "metadata": {},
   "outputs": [],
   "source": [
    "w = 7 # future horizon (cycles)\n",
    "\n",
    "%matplotlib inline\n",
    "import glob\n",
    "import itertools\n",
    "from collections import Counter\n",
    "import matplotlib.pyplot as plt\n",
    "import pandas as pd\n",
    "import numpy as np\n",
    "from collections import Counter\n",
    "from sklearn.ensemble import RandomForestClassifier\n",
    "from imblearn.over_sampling import SMOTE\n",
    "from sklearn.model_selection import TimeSeriesSplit, cross_val_score, train_test_split\n",
    "from sklearn.metrics import confusion_matrix, accuracy_score\n",
    "from pathlib import Path\n",
    "\n",
    "data_dir = str(Path.home()) + '/data'"
   ]
  },
  {
   "cell_type": "markdown",
   "metadata": {},
   "source": [
    "## Reading input data"
   ]
  },
  {
   "cell_type": "code",
   "execution_count": 2,
   "metadata": {},
   "outputs": [],
   "source": [
    "filenames = glob.glob(data_dir + '/features/*.csv')\n",
    "converters={\"failure\": str}\n",
    "seed = 42\n",
    "dfs= [pd.read_csv(filename, converters=converters) for filename in filenames]\n",
    "data = pd.concat(dfs, ignore_index=True)"
   ]
  },
  {
   "cell_type": "markdown",
   "metadata": {},
   "source": [
    "## Train/test split\n",
    "\n",
    "Two split strategies are implemented below:\n",
    "* time-dependent split\n",
    "* asset ID-based split\n",
    "\n",
    "Time-dependent split is more complex as it requires that training and test data sets don't have common rolling feature time frames. This means that for all sequences in the test data set, $X$ immediately preceding entries need to be removed from the training data, where $X$ is the length of the rolling aggregation window used during feature engineering minus 1 [[2]](#ref_2)."
   ]
  },
  {
   "cell_type": "code",
   "execution_count": 3,
   "metadata": {},
   "outputs": [],
   "source": [
    "lookback = 5       # rolling aggregation interval during feature engineering\n",
    "test_size = 0.2\n",
    "time_split = False  # if set to False, will perform asset ID-based split\n",
    "\n",
    "if time_split:\n",
    "    data.set_index(['entryID'], inplace=True)\n",
    "    data.sort_index(inplace=True)\n",
    "\n",
    "    train, test = train_test_split(data, test_size=test_size, shuffle=False)\n",
    "    \n",
    "    min_cycles = test.reset_index().groupby(\n",
    "        ['machineID']\n",
    "    ).cycle.min().apply(lambda x: x - lookback).to_frame(name='max_cycle')\n",
    "    \n",
    "    t = train.reset_index().join(min_cycles, on='machineID')\n",
    "    train = t[t.max_cycle.isna() |\n",
    "              (t.cycle < t.max_cycle)].drop('max_cycle', axis=1)\n",
    "    train.set_index(['entryID'], inplace=True)\n",
    "else:\n",
    "    # asset ID-based split\n",
    "    unique_assets = data.reset_index().machineID.unique()\n",
    "    train_assets, test_assets = train_test_split(\n",
    "        unique_assets, test_size=test_size, random_state=seed)\n",
    "    train = data[data.machineID.isin(train_assets)]\n",
    "    test = data[data.machineID.isin(test_assets)]\n",
    "    train.set_index(['entryID'], inplace=True)\n",
    "    test.set_index(['entryID'], inplace=True)"
   ]
  },
  {
   "cell_type": "markdown",
   "metadata": {},
   "source": [
    "### Label assignment\n",
    "\n",
    "The input feature data set provides remaining useful life (RUL) labels for all sequences ending in a failure. Below, RUL is translated into multi-class labels as follows:\n",
    "\n",
    "$$\n",
    "L_i = \\left\\{\n",
    "\\begin{array}{ll}\n",
    "      F_i & rul_i\\leq w \\\\\n",
    "      \\emptyset & \\text{otherwise} \\\\\n",
    "\\end{array} \n",
    "\\right.\n",
    "$$\n",
    "\n",
    "where $F_i$ is the type of the failure which ends the sequence the entry is a part of, $rul_i$ is the remaining useful life assigned to the entry, and $w$ is the future horizon."
   ]
  },
  {
   "cell_type": "code",
   "execution_count": 4,
   "metadata": {},
   "outputs": [],
   "source": [
    "def xy(data, w):\n",
    "    data = data.reset_index(drop = True)\n",
    "    f = lambda row: row.failure if row.rul and row.rul < w else ''\n",
    "    columns_to_drop = ['cycle', 'failure', 'rul', 'sequenceID', 'machineID']\n",
    "    return (data.drop(columns_to_drop, axis=1),\n",
    "            data.apply(f, axis=1))\n",
    "\n",
    "X_train, Y_train = xy(train, w)\n",
    "X_test, Y_test = xy(test, w)"
   ]
  },
  {
   "cell_type": "markdown",
   "metadata": {},
   "source": [
    "### Correction of data imbalance\n",
    "\n",
    "In typical predictive maintenance data sets, positive examples as often underrepresented relative to negative examples. This can be seen by counting failure types in the \"ground truth\" training data set:"
   ]
  },
  {
   "cell_type": "code",
   "execution_count": 5,
   "metadata": {},
   "outputs": [
    {
     "name": "stdout",
     "output_type": "stream",
     "text": [
      "Majority class:  [('', 51971)]\n",
      "Minority classes:  [('F1', 924), ('F2', 384)]\n"
     ]
    }
   ],
   "source": [
    "all_classes = Counter(Y_train)\n",
    "majority_class = all_classes.most_common(1)\n",
    "minority_classes = all_classes.most_common()[1:]\n",
    "\n",
    "print('Majority class: ', majority_class)\n",
    "print('Minority classes: ', minority_classes)"
   ]
  },
  {
   "cell_type": "markdown",
   "metadata": {},
   "source": [
    "With class imbalance in data, performance of most standard learning algorithms is compromised, since they aim to minimize the overall error rate. For a data set with 99% negative and 1% positive examples, a model can be shown to have 99% accuracy by labeling all instances as negative. But the model will mis-classify all positive examples; so even if its accuracy is high, the algorithm is not a useful one.\n",
    "\n",
    "Here, we will use the Synthetic Minority Over-sampling Technique (SMOTE) [[3]](#ref_3) to produce a more balanced training data set with at least 10% of positive examples. Note that over-sampling is not applied to the test data set."
   ]
  },
  {
   "cell_type": "code",
   "execution_count": 6,
   "metadata": {},
   "outputs": [
    {
     "data": {
      "text/plain": [
       "Counter({'': 51971, 'F1': 3763, 'F2': 1564})"
      ]
     },
     "execution_count": 6,
     "metadata": {},
     "output_type": "execute_result"
    }
   ],
   "source": [
    "minority_classes_size = sum([c[1] for c in minority_classes])\n",
    "desired_minority_classes_size = Y_train.count() * 0.1\n",
    "\n",
    "scale = desired_minority_classes_size / minority_classes_size\n",
    "\n",
    "ratio = None\n",
    "if scale > 1:\n",
    "    ratio = dict((c[0], int(c[1] * scale)) for c in minority_classes)\n",
    "\n",
    "sm = SMOTE(ratio=ratio, random_state=seed)\n",
    "X_train_res, Y_train_res = sm.fit_sample(X_train, Y_train)\n",
    "Counter(Y_train_res)"
   ]
  },
  {
   "cell_type": "markdown",
   "metadata": {},
   "source": [
    "## Model training\n",
    "\n",
    "For the current Predictive maintainance scenario we are using Random Forest Classifier. Tree ensemble algorithms such as  random forests and boosting are among the top performers for classification and regression tasks.\n",
    "\n",
    "For Business use cases like remaining useful life(RUL), we will use a Regression Model. While using Regression Models, we need to be careful about high intercorrelations or inter-associations among independent variables(Multicollinearity)[[4]](#ref_4)\n",
    "\n",
    "Following are few ways of dealing with Multicollinearity \n",
    "* remove highly corelated variable from the model\n",
    "* Use Partial Least Squares Regression (PLS)[[5]](#ref_5) or Principal Component Analysis(PCA)[[6]](#ref_6)\n"
   ]
  },
  {
   "cell_type": "code",
   "execution_count": 7,
   "metadata": {},
   "outputs": [
    {
     "data": {
      "text/plain": [
       "RandomForestClassifier(bootstrap=True, class_weight=None, criterion='gini',\n",
       "            max_depth=None, max_features='auto', max_leaf_nodes=None,\n",
       "            min_impurity_decrease=0.0, min_impurity_split=None,\n",
       "            min_samples_leaf=1, min_samples_split=2,\n",
       "            min_weight_fraction_leaf=0.0, n_estimators=10, n_jobs=1,\n",
       "            oob_score=False, random_state=42, verbose=0, warm_start=False)"
      ]
     },
     "execution_count": 7,
     "metadata": {},
     "output_type": "execute_result"
    }
   ],
   "source": [
    "clf = RandomForestClassifier(random_state=seed)\n",
    "clf.fit(X_train_res, Y_train_res)"
   ]
  },
  {
   "cell_type": "markdown",
   "metadata": {},
   "source": [
    "## Model evaluation\n",
    "\n",
    "**Note: this section is unfinished and needs more work**"
   ]
  },
  {
   "cell_type": "code",
   "execution_count": 8,
   "metadata": {},
   "outputs": [
    {
     "data": {
      "image/png": "[encoded data removed]",
      "text/plain": [
       "<matplotlib.figure.Figure at 0x7f87d32fed68>"
      ]
     },
     "metadata": {},
     "output_type": "display_data"
    }
   ],
   "source": [
    "Y_predictions = clf.predict(X_test)\n",
    "\n",
    "def plot_confusion_matrix(cm, classes,\n",
    "                          title='Confusion matrix',\n",
    "                          cmap=plt.cm.Blues):\n",
    "    orig = cm\n",
    "    cm = cm.astype('float') / cm.sum(axis=1)[:, np.newaxis]\n",
    "\n",
    "    plt.imshow(cm, interpolation='nearest', cmap=cmap)\n",
    "    plt.title(title)\n",
    "    plt.colorbar()\n",
    "    tick_marks = np.arange(len(classes))\n",
    "    plt.xticks(tick_marks, classes, rotation=45)\n",
    "    plt.yticks(tick_marks, classes)\n",
    "\n",
    "    fmt = '.2f'\n",
    "    thresh = cm.max() / 2.\n",
    "    for i, j in itertools.product(range(cm.shape[0]), range(cm.shape[1])):\n",
    "        plt.text(j, i, format(cm[i, j], fmt) + '\\n({0})'.format(orig[i, j]),\n",
    "                 horizontalalignment=\"center\",\n",
    "                 color=\"white\" if cm[i, j] > thresh else \"black\")\n",
    "\n",
    "    plt.tight_layout()\n",
    "    plt.ylabel('True label')\n",
    "    plt.xlabel('Predicted label')\n",
    "\n",
    "cm = confusion_matrix(Y_test, Y_predictions)\n",
    "plot_confusion_matrix(cm, ['None', 'F1'])"
   ]
  },
  {
   "cell_type": "code",
   "execution_count": 9,
   "metadata": {},
   "outputs": [
    {
     "data": {
      "text/plain": [
       "0.9944052728387492"
      ]
     },
     "execution_count": 9,
     "metadata": {},
     "output_type": "execute_result"
    }
   ],
   "source": [
    "# Not a very useful score\n",
    "accuracy_score(Y_test, Y_predictions)"
   ]
  },
  {
   "cell_type": "markdown",
   "metadata": {},
   "source": [
    "## Persisting the model and input sample"
   ]
  },
  {
   "cell_type": "code",
   "execution_count": 10,
   "metadata": {},
   "outputs": [
    {
     "data": {
      "text/plain": [
       "['model.pkl']"
      ]
     },
     "execution_count": 10,
     "metadata": {},
     "output_type": "execute_result"
    }
   ],
   "source": [
    "from sklearn.externals import joblib\n",
    "joblib.dump(clf, 'model.pkl') "
   ]
  },
  {
   "cell_type": "code",
   "execution_count": 11,
   "metadata": {},
   "outputs": [
    {
     "name": "stdout",
     "output_type": "stream",
     "text": [
      "Sample: [{\"s1\":1000,\"s2\":761.1411666667,\"s3\":136.0233333333,\"s4\":136.12,\"s5\":1114.0608333333,\"s6\":1592.62,\"s7\":135.9904490741,\"s8\":136.0866666667,\"s9\":1245.0425694444,\"s10\":1593.2816666667},{\"s1\":1000,\"s2\":934.78475,\"s3\":146.8305,\"s4\":146.97,\"s5\":1019.85525,\"s6\":1229.35,\"s7\":146.458775,\"s8\":146.6166666667,\"s9\":999.5446986111,\"s10\":1239.4733333333},{\"s1\":1000,\"s2\":935.14625,\"s3\":159.39625,\"s4\":159.81,\"s5\":769.0573333333,\"s6\":938.07,\"s7\":156.966537963,\"s8\":157.4616666667,\"s9\":848.2114305556,\"s10\":991.1016666667},{\"s1\":1000,\"s2\":1038.1156111111,\"s3\":137.1442222222,\"s4\":137.26,\"s5\":1427.3506666667,\"s6\":1602.01,\"s7\":137.0883634259,\"s8\":137.195,\"s9\":1356.4581805556,\"s10\":1602.3716666667},{\"s1\":1000,\"s2\":1368.2648666667,\"s3\":153.6534,\"s4\":154.2,\"s5\":1454.4247666667,\"s6\":1650.54,\"s7\":152.5318305556,\"s8\":152.83,\"s9\":1221.8341208333,\"s10\":1510.045}]\n"
     ]
    }
   ],
   "source": [
    "sample = X_test.sample(n = 5).to_json(orient='records')\n",
    "print('Sample:', sample)\n",
    "\n",
    "with open('sample.json', 'w') as sample_file:\n",
    "    sample_file.write(sample)"
   ]
  },
  {
   "cell_type": "markdown",
   "metadata": {},
   "source": [
    "## References\n",
    "\n",
    "https://docs.microsoft.com/en-us/azure/machine-learning/team-data-science-process/cortana-analytics-playbook-predictive-maintenance\n",
    "\n",
    "https://docs.microsoft.com/en-us/azure/machine-learning/team-data-science-process/cortana-analytics-playbook-predictive-maintenance#time-dependent-split\n",
    "\n",
    "https://www.cs.cmu.edu/afs/cs/project/jair/pub/volume16/chawla02a-html/chawla2002.html\n",
    "\n",
    "https://en.wikipedia.org/wiki/Multicollinearity\n",
    "\n",
    "https://en.wikipedia.org/wiki/Partial_least_squares_regression\n",
    "\n",
    "https://en.wikipedia.org/wiki/Principal_component_analysis"
   ]
  }
 ],
 "metadata": {
  "kernelspec": {
   "display_name": "Python 3",
   "language": "python",
   "name": "python3"
  },
  "language_info": {
   "codemirror_mode": {
    "name": "ipython",
    "version": 3
   },
   "file_extension": ".py",
   "mimetype": "text/x-python",
   "name": "python",
   "nbconvert_exporter": "python",
   "pygments_lexer": "ipython3",
   "version": "3.6.0"
  }
 },
 "nbformat": 4,
 "nbformat_minor": 2
}
